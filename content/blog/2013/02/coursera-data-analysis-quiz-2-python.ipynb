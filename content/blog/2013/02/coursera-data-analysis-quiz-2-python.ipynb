{
 "metadata": {
  "name": "Quiz_2"
 },
 "nbformat": 3,
 "nbformat_minor": 0,
 "worksheets": [
  {
   "cells": [
    {
     "cell_type": "markdown",
     "metadata": {},
     "source": [
      "I am taking the [Data Analysis](https://class.coursera.org/dataanalysis-001/) class on [coursera](http://coursera.org), I wanted to keep learning R since I previously took [Computing for Data Analysis](https://class.coursera.org/compdata-2012-001/) but since that I change it to python. I think I love python too much so I did this week quiz on python using pandas and numpy. Not sure if I will do this each week/quiz of the class, we will see.\n",
      "\n",
      "You can find the questions and solutions for the [quiz2.pdf](https://github.com/danielfrg/copper/raw/master/examples/coursera_data_analysis/week2/docs/quiz2.pdf), the data: [ss06hid.csv](https://raw.github.com/danielfrg/copper/master/examples/coursera_data_analysis/week2/data/ss06hid.csv), [ss06pid.csv](https://raw.github.com/danielfrg/copper/master/examples/coursera_data_analysis/week2/data/ss06pid.csv) and the [metadata](https://github.com/danielfrg/copper/raw/master/examples/coursera_data_analysis/week2/docs/PUMSDataDict06.pdf) on the github page."
     ]
    },
    {
     "cell_type": "code",
     "collapsed": false,
     "input": [
      "import numpy as np\n",
      "import pandas as pd"
     ],
     "language": "python",
     "metadata": {},
     "outputs": [],
     "prompt_number": 26
    },
    {
     "cell_type": "heading",
     "level": 2,
     "metadata": {},
     "source": [
      "Question 2"
     ]
    },
    {
     "cell_type": "code",
     "collapsed": false,
     "input": [
      "import urllib\n",
      "f = urllib.request.urlopen('http://simplystatistics.tumblr.com/')"
     ],
     "language": "python",
     "metadata": {},
     "outputs": [],
     "prompt_number": 141
    },
    {
     "cell_type": "code",
     "collapsed": false,
     "input": [
      "lines = []\n",
      "for i in range(150):\n",
      "    lines.append(f.readline())"
     ],
     "language": "python",
     "metadata": {},
     "outputs": [],
     "prompt_number": 142
    },
    {
     "cell_type": "code",
     "collapsed": false,
     "input": [
      "len(lines[1]), len(lines[44]), len(lines[121])"
     ],
     "language": "python",
     "metadata": {},
     "outputs": [
      {
       "output_type": "pyout",
       "prompt_number": 143,
       "text": [
        "(920, 7, 26)"
       ]
      }
     ],
     "prompt_number": 143
    },
    {
     "cell_type": "markdown",
     "metadata": {},
     "source": [
      "python adds a `'\\n'` on on each line so `-2`"
     ]
    },
    {
     "cell_type": "heading",
     "level": 2,
     "metadata": {},
     "source": [
      "Question 3"
     ]
    },
    {
     "cell_type": "code",
     "collapsed": false,
     "input": [
      "housing = pd.read_csv('ss06hid.csv')"
     ],
     "language": "python",
     "metadata": {},
     "outputs": [],
     "prompt_number": 2
    },
    {
     "cell_type": "code",
     "collapsed": false,
     "input": [
      "housing"
     ],
     "language": "python",
     "metadata": {},
     "outputs": [
      {
       "output_type": "pyout",
       "prompt_number": 6,
       "text": [
        "<class 'pandas.core.frame.DataFrame'>\n",
        "Int64Index: 6496 entries, 0 to 6495\n",
        "Columns: 188 entries, RT to wgtp80\n",
        "dtypes: float64(97), int64(90), object(1)"
       ]
      }
     ],
     "prompt_number": 6
    },
    {
     "cell_type": "code",
     "collapsed": false,
     "input": [
      "len(housing[housing['VAL'] >= 24])"
     ],
     "language": "python",
     "metadata": {},
     "outputs": [
      {
       "output_type": "pyout",
       "prompt_number": 10,
       "text": [
        "53"
       ]
      }
     ],
     "prompt_number": 10
    },
    {
     "cell_type": "heading",
     "level": 2,
     "metadata": {},
     "source": [
      "Question 4"
     ]
    },
    {
     "cell_type": "markdown",
     "metadata": {},
     "source": [
      "Column has to many information: Family type **and** employment status"
     ]
    },
    {
     "cell_type": "heading",
     "level": 2,
     "metadata": {},
     "source": [
      "Question 5"
     ]
    },
    {
     "cell_type": "code",
     "collapsed": false,
     "input": [
      "len(housing[(housing['BDS'] == 3) & (housing['RMS'] == 4)])"
     ],
     "language": "python",
     "metadata": {},
     "outputs": [
      {
       "output_type": "pyout",
       "prompt_number": 19,
       "text": [
        "148"
       ]
      }
     ],
     "prompt_number": 19
    },
    {
     "cell_type": "code",
     "collapsed": false,
     "input": [
      "len(housing[(housing['BDS'] == 2) & (housing['RMS'] == 5)])"
     ],
     "language": "python",
     "metadata": {},
     "outputs": [
      {
       "output_type": "pyout",
       "prompt_number": 20,
       "text": [
        "386"
       ]
      }
     ],
     "prompt_number": 20
    },
    {
     "cell_type": "code",
     "collapsed": false,
     "input": [
      "len(housing[(housing['BDS'] == 2) & (housing['RMS'] == 7)])"
     ],
     "language": "python",
     "metadata": {},
     "outputs": [
      {
       "output_type": "pyout",
       "prompt_number": 21,
       "text": [
        "49"
       ]
      }
     ],
     "prompt_number": 21
    },
    {
     "cell_type": "heading",
     "level": 2,
     "metadata": {},
     "source": [
      "Question 6"
     ]
    },
    {
     "cell_type": "code",
     "collapsed": false,
     "input": [
      "agricultureLogical = (housing['ACR'] >= 3) & (housing['AGS'] >= 6)"
     ],
     "language": "python",
     "metadata": {},
     "outputs": [
      {
       "output_type": "pyout",
       "prompt_number": 60,
       "text": [
        "pandas.core.series.Series"
       ]
      }
     ],
     "prompt_number": 60
    },
    {
     "cell_type": "code",
     "collapsed": false,
     "input": [
      "np.where(agricultureLogical == True)"
     ],
     "language": "python",
     "metadata": {},
     "outputs": [
      {
       "output_type": "pyout",
       "prompt_number": 66,
       "text": [
        "(array([ 124,  237,  261,  469,  554,  567,  607,  642,  786,  807,  823,\n",
        "        848,  951,  954, 1032, 1264, 1274, 1314, 1387, 1606, 1628, 1650,\n",
        "       1855, 1918, 2100, 2193, 2402, 2442, 2538, 2579, 2654, 2679, 2739,\n",
        "       2837, 2964, 3130, 3132, 3162, 3290, 3369, 3401, 3584, 3651, 3851,\n",
        "       3861, 3911, 4022, 4044, 4106, 4112, 4116, 4184, 4197, 4309, 4342,\n",
        "       4353, 4447, 4452, 4460, 4717, 4816, 4834, 4909, 5139, 5198, 5235,\n",
        "       5325, 5416, 5530, 5573, 5893, 6032, 6043, 6088, 6274, 6375, 6419]),)"
       ]
      }
     ],
     "prompt_number": 66
    },
    {
     "cell_type": "heading",
     "level": 2,
     "metadata": {},
     "source": [
      "Question 7"
     ]
    },
    {
     "cell_type": "code",
     "collapsed": false,
     "input": [
      "q7subsetDataFrame = housing[agricultureLogical]"
     ],
     "language": "python",
     "metadata": {},
     "outputs": [],
     "prompt_number": 67
    },
    {
     "cell_type": "code",
     "collapsed": false,
     "input": [
      "q7subsetDataFrame"
     ],
     "language": "python",
     "metadata": {},
     "outputs": [
      {
       "output_type": "pyout",
       "prompt_number": 68,
       "text": [
        "<class 'pandas.core.frame.DataFrame'>\n",
        "Int64Index: 77 entries, 124 to 6419\n",
        "Columns: 188 entries, RT to wgtp80\n",
        "dtypes: float64(97), int64(90), object(1)"
       ]
      }
     ],
     "prompt_number": 68
    },
    {
     "cell_type": "code",
     "collapsed": false,
     "input": [
      "l1 = len(q7subsetDataFrame)\n",
      "l1"
     ],
     "language": "python",
     "metadata": {},
     "outputs": [
      {
       "output_type": "pyout",
       "prompt_number": 71,
       "text": [
        "77"
       ]
      }
     ],
     "prompt_number": 71
    },
    {
     "cell_type": "code",
     "collapsed": false,
     "input": [
      "l2 = len(q7subsetDataFrame['MRGX'].dropna())\n",
      "l2"
     ],
     "language": "python",
     "metadata": {},
     "outputs": [
      {
       "output_type": "pyout",
       "prompt_number": 72,
       "text": [
        "69"
       ]
      }
     ],
     "prompt_number": 72
    },
    {
     "cell_type": "code",
     "collapsed": false,
     "input": [
      "l1 - l2"
     ],
     "language": "python",
     "metadata": {},
     "outputs": [
      {
       "output_type": "pyout",
       "prompt_number": 73,
       "text": [
        "8"
       ]
      }
     ],
     "prompt_number": 73
    },
    {
     "cell_type": "heading",
     "level": 2,
     "metadata": {},
     "source": [
      "Question 8"
     ]
    },
    {
     "cell_type": "code",
     "collapsed": false,
     "input": [
      "splits = []\n",
      "for col in housing.columns:\n",
      "    splits.append(col.split(\"wgtp\"))"
     ],
     "language": "python",
     "metadata": {},
     "outputs": [],
     "prompt_number": 180
    },
    {
     "cell_type": "code",
     "collapsed": false,
     "input": [
      "splits[122]"
     ],
     "language": "python",
     "metadata": {},
     "outputs": [
      {
       "output_type": "pyout",
       "prompt_number": 182,
       "text": [
        "['', '15']"
       ]
      }
     ],
     "prompt_number": 182
    },
    {
     "cell_type": "heading",
     "level": 2,
     "metadata": {},
     "source": [
      "Question 9"
     ]
    },
    {
     "cell_type": "code",
     "collapsed": false,
     "input": [
      "housing['YBL'].quantile(0)"
     ],
     "language": "python",
     "metadata": {},
     "outputs": [
      {
       "output_type": "pyout",
       "prompt_number": 82,
       "text": [
        "-1.0"
       ]
      }
     ],
     "prompt_number": 82
    },
    {
     "cell_type": "code",
     "collapsed": false,
     "input": [
      "housing['YBL'].quantile(1)"
     ],
     "language": "python",
     "metadata": {},
     "outputs": [
      {
       "output_type": "pyout",
       "prompt_number": 83,
       "text": [
        "25.0"
       ]
      }
     ],
     "prompt_number": 83
    },
    {
     "cell_type": "markdown",
     "metadata": {},
     "source": [
      "Something wrong because YBL is: 'When structure first built'\n",
      "\n",
      "* b .N/A (GQ)\n",
      "* 1 .2005 or later\n",
      "* 2 .2000 to 2004\n",
      "* 3 .1990 to 1999\n",
      "* 4 .1980 to 1989\n",
      "* 5 .1970 to 1979\n",
      "* 6 .1960 to 1969\n",
      "* 7 .1950 to 1959\n",
      "* 8 .1940 to 1949\n",
      "* 9 .1939 or earlier"
     ]
    },
    {
     "cell_type": "heading",
     "level": 2,
     "metadata": {},
     "source": [
      "Question 10"
     ]
    },
    {
     "cell_type": "code",
     "collapsed": false,
     "input": [
      "populations = pd.read_csv('ss06pid.csv')"
     ],
     "language": "python",
     "metadata": {},
     "outputs": [],
     "prompt_number": 84
    },
    {
     "cell_type": "code",
     "collapsed": false,
     "input": [
      "pd.merge(populations, housing, on='SERIALNO', how='outer')"
     ],
     "language": "python",
     "metadata": {},
     "outputs": [
      {
       "output_type": "pyout",
       "prompt_number": 88,
       "text": [
        "<class 'pandas.core.frame.DataFrame'>\n",
        "Int64Index: 15451 entries, 0 to 15450\n",
        "Columns: 426 entries, RT_x to wgtp80\n",
        "dtypes: float64(333), int64(89), object(4)"
       ]
      }
     ],
     "prompt_number": 88
    },
    {
     "cell_type": "heading",
     "level": 2,
     "metadata": {},
     "source": [
      "Conclusion"
     ]
    },
    {
     "cell_type": "markdown",
     "metadata": {},
     "source": [
      "I believe python is catching up on data analysis with tools as pandas and scikit-learn, the problem is that it is just catching up while R has years of being consolidated as **the** tool for doind data analysis but I believe python is the future for its integration with other technologies such as the web with [django](https://www.djangoproject.com/); python is a language that is fighting on all fronts that can be good or bad, lets hope that is good.\n",
      "\n",
      "FYI, I almost don't get question 8 xD."
     ]
    }
   ],
   "metadata": {}
  }
 ]
}
