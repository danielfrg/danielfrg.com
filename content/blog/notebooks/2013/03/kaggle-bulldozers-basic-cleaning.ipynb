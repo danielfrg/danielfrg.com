{
 "metadata": {
  "name": "clean",  
  "Title": "Kaggle bulldozers: Basic cleaning",
  "Date": "2013-3-7",
  "Category": "Data analysis",
  "Tags": "python,data analysis,kaggle,copper",
  "slug": "kaggle-bulldozers-basic-cleaning",
  "Author": "Daniel Rodriguez",
  "featured_img": "http://www.kaggle.com/content/v/a3f527e4a822/kaggle/img/logos/kaggle-transparent.svg"
 },
 "nbformat": 3,
 "nbformat_minor": 0,
 "worksheets": [
  {
   "cells": [
    {
     "cell_type": "markdown",
     "metadata": {},
     "source": [
      "In the last (2) weeks I have been doing a project for my Business Intelligence class and I learned why people always say they spend 80% of their time clearning the data, couldn't be more true.\n",
      "\n",
      "To practice a little bit more I decide to try the [Kaggle bulldozers](http://www.kaggle.com/c/bluebook-for-bulldozers) competition. The first thing I notice was that the data is huge (+450 Mgs), is by far the bigguest data I have dealed with, for most Big Data experts is probably tiny but for me was huge xD.\n",
      "\n",
      "I was curious to see if python was capable of dealing with that and make some basic cleaning, also I ended creating some functionality for [copper](https://github.com/danielfrg/copper), the date cleaning and join datasets."
     ]
    },
    {
     "cell_type": "markdown",
     "metadata": {},
     "source": [
      "I start by looking (and getting scared) the data on Excel then imported it into python (pandas); +401k and 53 columns."
     ]
    },
    {
     "cell_type": "code",
     "collapsed": false,
     "input": [
      "import copper\n",
      "copper.project.path = '../'"
     ],
     "language": "python",
     "metadata": {},
     "outputs": [],
     "prompt_number": 1
    },
    {
     "cell_type": "code",
     "collapsed": false,
     "input": [
      "train = copper.read_csv('train.csv')"
     ],
     "language": "python",
     "metadata": {},
     "outputs": [],
     "prompt_number": 2
    },
    {
     "cell_type": "code",
     "collapsed": false,
     "input": [
      "len(train), len(train.columns)"
     ],
     "language": "python",
     "metadata": {},
     "outputs": [
      {
       "output_type": "pyout",
       "prompt_number": 3,
       "text": [
        "(401125, 53)"
       ]
      }
     ],
     "prompt_number": 3
    },
    {
     "cell_type": "markdown",
     "metadata": {},
     "source": [
      "I decide to divide the cleaning into 4 sections approximately 12 columns each. And create 4 different `copper.Datasets` to modify the metadata of each section. Mainly needed to decide which columns are useful and which columns has to many missing values to be useful. At the same time making sure that the useful columns are do not have duplicates (categorical variables) and are good for machine learning (dates)."
     ]
    },
    {
     "cell_type": "heading",
     "level": 2,
     "metadata": {},
     "source": [
      "Columns 1"
     ]
    },
    {
     "cell_type": "markdown",
     "metadata": {},
     "source": [
      "Select the first 11 columsn and print its first values."
     ]
    },
    {
     "cell_type": "code",
     "collapsed": false,
     "input": [
      "cols1 = train[train.columns[0:12]]"
     ],
     "language": "python",
     "metadata": {},
     "outputs": [],
     "prompt_number": 4
    },
    {
     "cell_type": "code",
     "collapsed": false,
     "input": [
      "cols1.head()"
     ],
     "language": "python",
     "metadata": {},
     "outputs": [
      {
       "html": [
        "<div style=\"max-height:1000px;max-width:1500px;overflow:auto;\">\n",
        "<table border=\"1\" class=\"dataframe\">\n",
        "  <thead>\n",
        "    <tr style=\"text-align: right;\">\n",
        "      <th></th>\n",
        "      <th>SalesID</th>\n",
        "      <th>SalePrice</th>\n",
        "      <th>MachineID</th>\n",
        "      <th>ModelID</th>\n",
        "      <th>datasource</th>\n",
        "      <th>auctioneerID</th>\n",
        "      <th>YearMade</th>\n",
        "      <th>MachineHoursCurrentMeter</th>\n",
        "      <th>UsageBand</th>\n",
        "      <th>saledate</th>\n",
        "      <th>fiModelDesc</th>\n",
        "      <th>fiBaseModel</th>\n",
        "    </tr>\n",
        "  </thead>\n",
        "  <tbody>\n",
        "    <tr>\n",
        "      <th>0</th>\n",
        "      <td> 1139246</td>\n",
        "      <td> 66000</td>\n",
        "      <td>  999089</td>\n",
        "      <td>  3157</td>\n",
        "      <td> 121</td>\n",
        "      <td> 3</td>\n",
        "      <td> 2004</td>\n",
        "      <td>   68</td>\n",
        "      <td>    Low</td>\n",
        "      <td> 11/16/2006 0:00</td>\n",
        "      <td>     521D</td>\n",
        "      <td>   521</td>\n",
        "    </tr>\n",
        "    <tr>\n",
        "      <th>1</th>\n",
        "      <td> 1139248</td>\n",
        "      <td> 57000</td>\n",
        "      <td>  117657</td>\n",
        "      <td>    77</td>\n",
        "      <td> 121</td>\n",
        "      <td> 3</td>\n",
        "      <td> 1996</td>\n",
        "      <td> 4640</td>\n",
        "      <td>    Low</td>\n",
        "      <td>  3/26/2004 0:00</td>\n",
        "      <td>   950FII</td>\n",
        "      <td>   950</td>\n",
        "    </tr>\n",
        "    <tr>\n",
        "      <th>2</th>\n",
        "      <td> 1139249</td>\n",
        "      <td> 10000</td>\n",
        "      <td>  434808</td>\n",
        "      <td>  7009</td>\n",
        "      <td> 121</td>\n",
        "      <td> 3</td>\n",
        "      <td> 2001</td>\n",
        "      <td> 2838</td>\n",
        "      <td>   High</td>\n",
        "      <td>  2/26/2004 0:00</td>\n",
        "      <td>      226</td>\n",
        "      <td>   226</td>\n",
        "    </tr>\n",
        "    <tr>\n",
        "      <th>3</th>\n",
        "      <td> 1139251</td>\n",
        "      <td> 38500</td>\n",
        "      <td> 1026470</td>\n",
        "      <td>   332</td>\n",
        "      <td> 121</td>\n",
        "      <td> 3</td>\n",
        "      <td> 2001</td>\n",
        "      <td> 3486</td>\n",
        "      <td>   High</td>\n",
        "      <td>  5/19/2011 0:00</td>\n",
        "      <td> PC120-6E</td>\n",
        "      <td> PC120</td>\n",
        "    </tr>\n",
        "    <tr>\n",
        "      <th>4</th>\n",
        "      <td> 1139253</td>\n",
        "      <td> 11000</td>\n",
        "      <td> 1057373</td>\n",
        "      <td> 17311</td>\n",
        "      <td> 121</td>\n",
        "      <td> 3</td>\n",
        "      <td> 2007</td>\n",
        "      <td>  722</td>\n",
        "      <td> Medium</td>\n",
        "      <td>  7/23/2009 0:00</td>\n",
        "      <td>     S175</td>\n",
        "      <td>  S175</td>\n",
        "    </tr>\n",
        "  </tbody>\n",
        "</table>\n",
        "</div>"
       ],
       "output_type": "pyout",
       "prompt_number": 5,
       "text": [
        "   SalesID  SalePrice  MachineID  ModelID  datasource  auctioneerID  YearMade  \\\n",
        "0  1139246      66000     999089     3157         121             3      2004   \n",
        "1  1139248      57000     117657       77         121             3      1996   \n",
        "2  1139249      10000     434808     7009         121             3      2001   \n",
        "3  1139251      38500    1026470      332         121             3      2001   \n",
        "4  1139253      11000    1057373    17311         121             3      2007   \n",
        "\n",
        "   MachineHoursCurrentMeter UsageBand         saledate fiModelDesc fiBaseModel  \n",
        "0                        68       Low  11/16/2006 0:00        521D         521  \n",
        "1                      4640       Low   3/26/2004 0:00      950FII         950  \n",
        "2                      2838      High   2/26/2004 0:00         226         226  \n",
        "3                      3486      High   5/19/2011 0:00    PC120-6E       PC120  \n",
        "4                       722    Medium   7/23/2009 0:00        S175        S175  "
       ]
      }
     ],
     "prompt_number": 5
    },
    {
     "cell_type": "markdown",
     "metadata": {},
     "source": [
      "Most of the columns on this section are only IDs which are not usefull on prediction, also the target is the `SalePrice` variable so I created a Dataset and put the correct metadata."
     ]
    },
    {
     "cell_type": "code",
     "collapsed": false,
     "input": [
      "ds1 = copper.Dataset(cols1)"
     ],
     "language": "python",
     "metadata": {},
     "outputs": [],
     "prompt_number": 6
    },
    {
     "cell_type": "code",
     "collapsed": false,
     "input": [
      "ds1.role['SalesID'] = ds1.ID\n",
      "ds1.role['MachineID'] = ds1.ID\n",
      "ds1.role['ModelID'] = ds1.ID\n",
      "ds1.role['datasource'] = ds1.ID\n",
      "ds1.role['auctioneerID'] = ds1.ID\n",
      "ds1.role['SalePrice'] = ds1.TARGET"
     ],
     "language": "python",
     "metadata": {},
     "outputs": [],
     "prompt_number": 7
    },
    {
     "cell_type": "code",
     "collapsed": false,
     "input": [
      "ds1.percent_missing()"
     ],
     "language": "python",
     "metadata": {},
     "outputs": [
      {
       "output_type": "pyout",
       "prompt_number": 8,
       "text": [
        "UsageBand                   0.826391\n",
        "MachineHoursCurrentMeter    0.644089\n",
        "auctioneerID                0.050199\n",
        "fiBaseModel                 0.000000\n",
        "fiModelDesc                 0.000000\n",
        "saledate                    0.000000\n",
        "YearMade                    0.000000\n",
        "datasource                  0.000000\n",
        "ModelID                     0.000000\n",
        "MachineID                   0.000000\n",
        "SalePrice                   0.000000\n",
        "SalesID                     0.000000"
       ]
      }
     ],
     "prompt_number": 8
    },
    {
     "cell_type": "markdown",
     "metadata": {},
     "source": [
      "The values with more than 50% of missing values are automatically rejected. But the ones that are not reject (and are not IDs) are looking good."
     ]
    },
    {
     "cell_type": "heading",
     "level": 3,
     "metadata": {},
     "source": [
      "Transforming a date"
     ]
    },
    {
     "cell_type": "markdown",
     "metadata": {},
     "source": [
      "The Date field could be usefull but is a text and is necessary to convert it into a python datetime, and for doing machine learning is usefull to convert dates into numbers, the most common aproach is to use the Julian Date method.\n",
      "\n",
      "Original data:"
     ]
    },
    {
     "cell_type": "code",
     "collapsed": false,
     "input": [
      "ds1['saledate'].head(2)"
     ],
     "language": "python",
     "metadata": {},
     "outputs": [
      {
       "output_type": "pyout",
       "prompt_number": 9,
       "text": [
        "0    11/16/2006 0:00\n",
        "1     3/26/2004 0:00\n",
        "Name: saledate"
       ]
      }
     ],
     "prompt_number": 9
    },
    {
     "cell_type": "markdown",
     "metadata": {},
     "source": [
      "Convert it into a datetime giving the correct format."
     ]
    },
    {
     "cell_type": "code",
     "collapsed": false,
     "input": [
      "ds1['saledate'] = ds1['saledate'].apply(copper.transform.strptime, args='%m/%d/%Y %H:%M')"
     ],
     "language": "python",
     "metadata": {},
     "outputs": [],
     "prompt_number": 10
    },
    {
     "cell_type": "code",
     "collapsed": false,
     "input": [
      "ds1['saledate'].head(2)"
     ],
     "language": "python",
     "metadata": {},
     "outputs": [
      {
       "output_type": "pyout",
       "prompt_number": 11,
       "text": [
        "0    2006-11-16 00:00:00\n",
        "1    2004-03-26 00:00:00\n",
        "Name: saledate"
       ]
      }
     ],
     "prompt_number": 11
    },
    {
     "cell_type": "markdown",
     "metadata": {},
     "source": [
      "Convert the dates into numbers"
     ]
    },
    {
     "cell_type": "code",
     "collapsed": false,
     "input": [
      "ds1['saledate'] = ds1['saledate'].apply(copper.transform.date_to_number)"
     ],
     "language": "python",
     "metadata": {},
     "outputs": [],
     "prompt_number": 12
    },
    {
     "cell_type": "code",
     "collapsed": false,
     "input": [
      "ds1['saledate'].head(2)"
     ],
     "language": "python",
     "metadata": {},
     "outputs": [
      {
       "output_type": "pyout",
       "prompt_number": 13,
       "text": [
        "0    13468\n",
        "1    12503\n",
        "Name: saledate"
       ]
      }
     ],
     "prompt_number": 13
    },
    {
     "cell_type": "markdown",
     "metadata": {},
     "source": [
      "Change the type metadata of `saledate` because now is a Number not a Category."
     ]
    },
    {
     "cell_type": "code",
     "collapsed": false,
     "input": [
      "ds1.type['saledate'] = ds1.NUMBER"
     ],
     "language": "python",
     "metadata": {},
     "outputs": [],
     "prompt_number": 14
    },
    {
     "cell_type": "code",
     "collapsed": false,
     "input": [
      "ds1.metadata"
     ],
     "language": "python",
     "metadata": {},
     "outputs": [
      {
       "html": [
        "<div style=\"max-height:1000px;max-width:1500px;overflow:auto;\">\n",
        "<table border=\"1\" class=\"dataframe\">\n",
        "  <thead>\n",
        "    <tr style=\"text-align: right;\">\n",
        "      <th></th>\n",
        "      <th>Role</th>\n",
        "      <th>Type</th>\n",
        "      <th>dtype</th>\n",
        "    </tr>\n",
        "  </thead>\n",
        "  <tbody>\n",
        "    <tr>\n",
        "      <th>SalesID</th>\n",
        "      <td>     ID</td>\n",
        "      <td>   Number</td>\n",
        "      <td>   int64</td>\n",
        "    </tr>\n",
        "    <tr>\n",
        "      <th>SalePrice</th>\n",
        "      <td> Target</td>\n",
        "      <td>   Number</td>\n",
        "      <td>   int64</td>\n",
        "    </tr>\n",
        "    <tr>\n",
        "      <th>MachineID</th>\n",
        "      <td>     ID</td>\n",
        "      <td>   Number</td>\n",
        "      <td>   int64</td>\n",
        "    </tr>\n",
        "    <tr>\n",
        "      <th>ModelID</th>\n",
        "      <td>     ID</td>\n",
        "      <td>   Number</td>\n",
        "      <td>   int64</td>\n",
        "    </tr>\n",
        "    <tr>\n",
        "      <th>datasource</th>\n",
        "      <td>     ID</td>\n",
        "      <td>   Number</td>\n",
        "      <td>   int64</td>\n",
        "    </tr>\n",
        "    <tr>\n",
        "      <th>auctioneerID</th>\n",
        "      <td>     ID</td>\n",
        "      <td>   Number</td>\n",
        "      <td> float64</td>\n",
        "    </tr>\n",
        "    <tr>\n",
        "      <th>YearMade</th>\n",
        "      <td>  Input</td>\n",
        "      <td>   Number</td>\n",
        "      <td>   int64</td>\n",
        "    </tr>\n",
        "    <tr>\n",
        "      <th>MachineHoursCurrentMeter</th>\n",
        "      <td> Reject</td>\n",
        "      <td>   Number</td>\n",
        "      <td> float64</td>\n",
        "    </tr>\n",
        "    <tr>\n",
        "      <th>UsageBand</th>\n",
        "      <td> Reject</td>\n",
        "      <td> Category</td>\n",
        "      <td>  object</td>\n",
        "    </tr>\n",
        "    <tr>\n",
        "      <th>saledate</th>\n",
        "      <td>  Input</td>\n",
        "      <td>   Number</td>\n",
        "      <td>   int64</td>\n",
        "    </tr>\n",
        "    <tr>\n",
        "      <th>fiModelDesc</th>\n",
        "      <td>  Input</td>\n",
        "      <td> Category</td>\n",
        "      <td>  object</td>\n",
        "    </tr>\n",
        "    <tr>\n",
        "      <th>fiBaseModel</th>\n",
        "      <td>  Input</td>\n",
        "      <td> Category</td>\n",
        "      <td>  object</td>\n",
        "    </tr>\n",
        "  </tbody>\n",
        "</table>\n",
        "</div>"
       ],
       "output_type": "pyout",
       "prompt_number": 15,
       "text": [
        "                            Role      Type    dtype\n",
        "SalesID                       ID    Number    int64\n",
        "SalePrice                 Target    Number    int64\n",
        "MachineID                     ID    Number    int64\n",
        "ModelID                       ID    Number    int64\n",
        "datasource                    ID    Number    int64\n",
        "auctioneerID                  ID    Number  float64\n",
        "YearMade                   Input    Number    int64\n",
        "MachineHoursCurrentMeter  Reject    Number  float64\n",
        "UsageBand                 Reject  Category   object\n",
        "saledate                   Input    Number    int64\n",
        "fiModelDesc                Input  Category   object\n",
        "fiBaseModel                Input  Category   object"
       ]
      }
     ],
     "prompt_number": 15
    },
    {
     "cell_type": "heading",
     "level": 2,
     "metadata": {},
     "source": [
      "Columns 2"
     ]
    },
    {
     "cell_type": "markdown",
     "metadata": {},
     "source": [
      "Select the next columns and print the percent of missing values."
     ]
    },
    {
     "cell_type": "code",
     "collapsed": false,
     "input": [
      "cols2 = train[train.columns[12:20]]\n",
      "cols2.head(7)"
     ],
     "language": "python",
     "metadata": {},
     "outputs": [
      {
       "html": [
        "<div style=\"max-height:1000px;max-width:1500px;overflow:auto;\">\n",
        "<table border=\"1\" class=\"dataframe\">\n",
        "  <thead>\n",
        "    <tr style=\"text-align: right;\">\n",
        "      <th></th>\n",
        "      <th>fiSecondaryDesc</th>\n",
        "      <th>fiModelSeries</th>\n",
        "      <th>fiModelDescriptor</th>\n",
        "      <th>ProductSize</th>\n",
        "      <th>fiProductClassDesc</th>\n",
        "      <th>state</th>\n",
        "      <th>ProductGroup</th>\n",
        "      <th>ProductGroupDesc</th>\n",
        "    </tr>\n",
        "  </thead>\n",
        "  <tbody>\n",
        "    <tr>\n",
        "      <th>0</th>\n",
        "      <td>   D</td>\n",
        "      <td> NaN</td>\n",
        "      <td> NaN</td>\n",
        "      <td>            NaN</td>\n",
        "      <td>          Wheel Loader - 110.0 to 120.0 Horsepower</td>\n",
        "      <td>        Alabama</td>\n",
        "      <td>  WL</td>\n",
        "      <td>       Wheel Loader</td>\n",
        "    </tr>\n",
        "    <tr>\n",
        "      <th>1</th>\n",
        "      <td>   F</td>\n",
        "      <td>  II</td>\n",
        "      <td> NaN</td>\n",
        "      <td>         Medium</td>\n",
        "      <td>          Wheel Loader - 150.0 to 175.0 Horsepower</td>\n",
        "      <td> North Carolina</td>\n",
        "      <td>  WL</td>\n",
        "      <td>       Wheel Loader</td>\n",
        "    </tr>\n",
        "    <tr>\n",
        "      <th>2</th>\n",
        "      <td> NaN</td>\n",
        "      <td> NaN</td>\n",
        "      <td> NaN</td>\n",
        "      <td>            NaN</td>\n",
        "      <td> Skid Steer Loader - 1351.0 to 1601.0 Lb Operat...</td>\n",
        "      <td>       New York</td>\n",
        "      <td> SSL</td>\n",
        "      <td> Skid Steer Loaders</td>\n",
        "    </tr>\n",
        "    <tr>\n",
        "      <th>3</th>\n",
        "      <td> NaN</td>\n",
        "      <td> -6E</td>\n",
        "      <td> NaN</td>\n",
        "      <td>          Small</td>\n",
        "      <td> Hydraulic Excavator, Track - 12.0 to 14.0 Metr...</td>\n",
        "      <td>          Texas</td>\n",
        "      <td> TEX</td>\n",
        "      <td>   Track Excavators</td>\n",
        "    </tr>\n",
        "    <tr>\n",
        "      <th>4</th>\n",
        "      <td> NaN</td>\n",
        "      <td> NaN</td>\n",
        "      <td> NaN</td>\n",
        "      <td>            NaN</td>\n",
        "      <td> Skid Steer Loader - 1601.0 to 1751.0 Lb Operat...</td>\n",
        "      <td>       New York</td>\n",
        "      <td> SSL</td>\n",
        "      <td> Skid Steer Loaders</td>\n",
        "    </tr>\n",
        "    <tr>\n",
        "      <th>5</th>\n",
        "      <td>   G</td>\n",
        "      <td> NaN</td>\n",
        "      <td> NaN</td>\n",
        "      <td>            NaN</td>\n",
        "      <td> Backhoe Loader - 14.0 to 15.0 Ft Standard Digg...</td>\n",
        "      <td>        Arizona</td>\n",
        "      <td>  BL</td>\n",
        "      <td>    Backhoe Loaders</td>\n",
        "    </tr>\n",
        "    <tr>\n",
        "      <th>6</th>\n",
        "      <td>   E</td>\n",
        "      <td> NaN</td>\n",
        "      <td>  LC</td>\n",
        "      <td> Large / Medium</td>\n",
        "      <td> Hydraulic Excavator, Track - 21.0 to 24.0 Metr...</td>\n",
        "      <td>        Florida</td>\n",
        "      <td> TEX</td>\n",
        "      <td>   Track Excavators</td>\n",
        "    </tr>\n",
        "  </tbody>\n",
        "</table>\n",
        "</div>"
       ],
       "output_type": "pyout",
       "prompt_number": 16,
       "text": [
        "  fiSecondaryDesc fiModelSeries fiModelDescriptor     ProductSize  \\\n",
        "0               D           NaN               NaN             NaN   \n",
        "1               F            II               NaN          Medium   \n",
        "2             NaN           NaN               NaN             NaN   \n",
        "3             NaN           -6E               NaN           Small   \n",
        "4             NaN           NaN               NaN             NaN   \n",
        "5               G           NaN               NaN             NaN   \n",
        "6               E           NaN                LC  Large / Medium   \n",
        "\n",
        "                                  fiProductClassDesc           state ProductGroup  \\\n",
        "0           Wheel Loader - 110.0 to 120.0 Horsepower         Alabama           WL   \n",
        "1           Wheel Loader - 150.0 to 175.0 Horsepower  North Carolina           WL   \n",
        "2  Skid Steer Loader - 1351.0 to 1601.0 Lb Operat...        New York          SSL   \n",
        "3  Hydraulic Excavator, Track - 12.0 to 14.0 Metr...           Texas          TEX   \n",
        "4  Skid Steer Loader - 1601.0 to 1751.0 Lb Operat...        New York          SSL   \n",
        "5  Backhoe Loader - 14.0 to 15.0 Ft Standard Digg...         Arizona           BL   \n",
        "6  Hydraulic Excavator, Track - 21.0 to 24.0 Metr...         Florida          TEX   \n",
        "\n",
        "     ProductGroupDesc  \n",
        "0        Wheel Loader  \n",
        "1        Wheel Loader  \n",
        "2  Skid Steer Loaders  \n",
        "3    Track Excavators  \n",
        "4  Skid Steer Loaders  \n",
        "5     Backhoe Loaders  \n",
        "6    Track Excavators  "
       ]
      }
     ],
     "prompt_number": 16
    },
    {
     "cell_type": "code",
     "collapsed": false,
     "input": [
      "ds2 = copper.Dataset(cols2)\n",
      "ds2.percent_missing()"
     ],
     "language": "python",
     "metadata": {},
     "outputs": [
      {
       "output_type": "pyout",
       "prompt_number": 17,
       "text": [
        "fiModelSeries         0.858129\n",
        "fiModelDescriptor     0.820707\n",
        "ProductSize           0.525460\n",
        "fiSecondaryDesc       0.342016\n",
        "ProductGroupDesc      0.000000\n",
        "ProductGroup          0.000000\n",
        "state                 0.000000\n",
        "fiProductClassDesc    0.000000"
       ]
      }
     ],
     "prompt_number": 17
    },
    {
     "cell_type": "markdown",
     "metadata": {},
     "source": [
      "On the first dataset we have one column (`fiModelDesc`) that is divided into two variables (`fiBaseModel` and `fiSecondaryDesc`) so we do not need the original variable. We also have `ProductGroup` and `ProductGroupDesc` which are have the same information so I reject one.\n",
      "\n",
      "Finally we have fiProductClassDesc, which can be usefull but needs more transformation. Initially I was thinking of taking the numbers of the field but some values are Lbs and some are HorsePower so is not that simple, for not I reject it."
     ]
    },
    {
     "cell_type": "code",
     "collapsed": false,
     "input": [
      "ds1.role['fiModelDesc'] = ds1.REJECTED\n",
      "ds2.role['ProductGroupDesc'] = ds2.REJECTED\n",
      "ds2.role['fiProductClassDesc'] = ds2.REJECTED"
     ],
     "language": "python",
     "metadata": {},
     "outputs": [],
     "prompt_number": 18
    },
    {
     "cell_type": "markdown",
     "metadata": {},
     "source": [
      "Since I have rejected so many variables I gave a change to 'ProductSize' since is just above the margin of missing values."
     ]
    },
    {
     "cell_type": "code",
     "collapsed": false,
     "input": [
      "ds2.role['ProductSize'] = ds1.INPUT"
     ],
     "language": "python",
     "metadata": {},
     "outputs": [],
     "prompt_number": 19
    },
    {
     "cell_type": "code",
     "collapsed": false,
     "input": [
      "set(ds2['ProductSize'])"
     ],
     "language": "python",
     "metadata": {},
     "outputs": [
      {
       "output_type": "pyout",
       "prompt_number": 20,
       "text": [
        "set([nan, 'Mini', 'Medium', 'Large / Medium', 'Compact', 'Large', 'Small'])"
       ]
      }
     ],
     "prompt_number": 20
    },
    {
     "cell_type": "markdown",
     "metadata": {},
     "source": [
      "Looks quite clean so no problems there. The final metadata for this section looks like this."
     ]
    },
    {
     "cell_type": "code",
     "collapsed": false,
     "input": [
      "ds2.metadata"
     ],
     "language": "python",
     "metadata": {},
     "outputs": [
      {
       "html": [
        "<div style=\"max-height:1000px;max-width:1500px;overflow:auto;\">\n",
        "<table border=\"1\" class=\"dataframe\">\n",
        "  <thead>\n",
        "    <tr style=\"text-align: right;\">\n",
        "      <th></th>\n",
        "      <th>Role</th>\n",
        "      <th>Type</th>\n",
        "      <th>dtype</th>\n",
        "    </tr>\n",
        "  </thead>\n",
        "  <tbody>\n",
        "    <tr>\n",
        "      <th>fiSecondaryDesc</th>\n",
        "      <td>  Input</td>\n",
        "      <td> Category</td>\n",
        "      <td> object</td>\n",
        "    </tr>\n",
        "    <tr>\n",
        "      <th>fiModelSeries</th>\n",
        "      <td> Reject</td>\n",
        "      <td> Category</td>\n",
        "      <td> object</td>\n",
        "    </tr>\n",
        "    <tr>\n",
        "      <th>fiModelDescriptor</th>\n",
        "      <td> Reject</td>\n",
        "      <td> Category</td>\n",
        "      <td> object</td>\n",
        "    </tr>\n",
        "    <tr>\n",
        "      <th>ProductSize</th>\n",
        "      <td>  Input</td>\n",
        "      <td> Category</td>\n",
        "      <td> object</td>\n",
        "    </tr>\n",
        "    <tr>\n",
        "      <th>fiProductClassDesc</th>\n",
        "      <td> Reject</td>\n",
        "      <td> Category</td>\n",
        "      <td> object</td>\n",
        "    </tr>\n",
        "    <tr>\n",
        "      <th>state</th>\n",
        "      <td>  Input</td>\n",
        "      <td> Category</td>\n",
        "      <td> object</td>\n",
        "    </tr>\n",
        "    <tr>\n",
        "      <th>ProductGroup</th>\n",
        "      <td>  Input</td>\n",
        "      <td> Category</td>\n",
        "      <td> object</td>\n",
        "    </tr>\n",
        "    <tr>\n",
        "      <th>ProductGroupDesc</th>\n",
        "      <td> Reject</td>\n",
        "      <td> Category</td>\n",
        "      <td> object</td>\n",
        "    </tr>\n",
        "  </tbody>\n",
        "</table>\n",
        "</div>"
       ],
       "output_type": "pyout",
       "prompt_number": 21,
       "text": [
        "                      Role      Type   dtype\n",
        "fiSecondaryDesc      Input  Category  object\n",
        "fiModelSeries       Reject  Category  object\n",
        "fiModelDescriptor   Reject  Category  object\n",
        "ProductSize          Input  Category  object\n",
        "fiProductClassDesc  Reject  Category  object\n",
        "state                Input  Category  object\n",
        "ProductGroup         Input  Category  object\n",
        "ProductGroupDesc    Reject  Category  object"
       ]
      }
     ],
     "prompt_number": 21
    },
    {
     "cell_type": "heading",
     "level": 2,
     "metadata": {},
     "source": [
      "Columns 3"
     ]
    },
    {
     "cell_type": "markdown",
     "metadata": {},
     "source": [
      "Print the first rows of the next section and see the missing values."
     ]
    },
    {
     "cell_type": "code",
     "collapsed": false,
     "input": [
      "cols3 = train[train.columns[20:31]]\n",
      "cols3.head(5)"
     ],
     "language": "python",
     "metadata": {},
     "outputs": [
      {
       "html": [
        "<div style=\"max-height:1000px;max-width:1500px;overflow:auto;\">\n",
        "<table border=\"1\" class=\"dataframe\">\n",
        "  <thead>\n",
        "    <tr style=\"text-align: right;\">\n",
        "      <th></th>\n",
        "      <th>Drive_System</th>\n",
        "      <th>Enclosure</th>\n",
        "      <th>Forks</th>\n",
        "      <th>Pad_Type</th>\n",
        "      <th>Ride_Control</th>\n",
        "      <th>Stick</th>\n",
        "      <th>Transmission</th>\n",
        "      <th>Turbocharged</th>\n",
        "      <th>Blade_Extension</th>\n",
        "      <th>Blade_Width</th>\n",
        "      <th>Enclosure_Type</th>\n",
        "    </tr>\n",
        "  </thead>\n",
        "  <tbody>\n",
        "    <tr>\n",
        "      <th>0</th>\n",
        "      <td> NaN</td>\n",
        "      <td> EROPS w AC</td>\n",
        "      <td> None or Unspecified</td>\n",
        "      <td> NaN</td>\n",
        "      <td> None or Unspecified</td>\n",
        "      <td> NaN</td>\n",
        "      <td> NaN</td>\n",
        "      <td> NaN</td>\n",
        "      <td> NaN</td>\n",
        "      <td> NaN</td>\n",
        "      <td> NaN</td>\n",
        "    </tr>\n",
        "    <tr>\n",
        "      <th>1</th>\n",
        "      <td> NaN</td>\n",
        "      <td> EROPS w AC</td>\n",
        "      <td> None or Unspecified</td>\n",
        "      <td> NaN</td>\n",
        "      <td> None or Unspecified</td>\n",
        "      <td> NaN</td>\n",
        "      <td> NaN</td>\n",
        "      <td> NaN</td>\n",
        "      <td> NaN</td>\n",
        "      <td> NaN</td>\n",
        "      <td> NaN</td>\n",
        "    </tr>\n",
        "    <tr>\n",
        "      <th>2</th>\n",
        "      <td> NaN</td>\n",
        "      <td>      OROPS</td>\n",
        "      <td> None or Unspecified</td>\n",
        "      <td> NaN</td>\n",
        "      <td>                 NaN</td>\n",
        "      <td> NaN</td>\n",
        "      <td> NaN</td>\n",
        "      <td> NaN</td>\n",
        "      <td> NaN</td>\n",
        "      <td> NaN</td>\n",
        "      <td> NaN</td>\n",
        "    </tr>\n",
        "    <tr>\n",
        "      <th>3</th>\n",
        "      <td> NaN</td>\n",
        "      <td> EROPS w AC</td>\n",
        "      <td>                 NaN</td>\n",
        "      <td> NaN</td>\n",
        "      <td>                 NaN</td>\n",
        "      <td> NaN</td>\n",
        "      <td> NaN</td>\n",
        "      <td> NaN</td>\n",
        "      <td> NaN</td>\n",
        "      <td> NaN</td>\n",
        "      <td> NaN</td>\n",
        "    </tr>\n",
        "    <tr>\n",
        "      <th>4</th>\n",
        "      <td> NaN</td>\n",
        "      <td>      EROPS</td>\n",
        "      <td> None or Unspecified</td>\n",
        "      <td> NaN</td>\n",
        "      <td>                 NaN</td>\n",
        "      <td> NaN</td>\n",
        "      <td> NaN</td>\n",
        "      <td> NaN</td>\n",
        "      <td> NaN</td>\n",
        "      <td> NaN</td>\n",
        "      <td> NaN</td>\n",
        "    </tr>\n",
        "  </tbody>\n",
        "</table>\n",
        "</div>"
       ],
       "output_type": "pyout",
       "prompt_number": 22,
       "text": [
        "  Drive_System   Enclosure                Forks Pad_Type         Ride_Control Stick  \\\n",
        "0          NaN  EROPS w AC  None or Unspecified      NaN  None or Unspecified   NaN   \n",
        "1          NaN  EROPS w AC  None or Unspecified      NaN  None or Unspecified   NaN   \n",
        "2          NaN       OROPS  None or Unspecified      NaN                  NaN   NaN   \n",
        "3          NaN  EROPS w AC                  NaN      NaN                  NaN   NaN   \n",
        "4          NaN       EROPS  None or Unspecified      NaN                  NaN   NaN   \n",
        "\n",
        "  Transmission Turbocharged Blade_Extension Blade_Width Enclosure_Type  \n",
        "0          NaN          NaN             NaN         NaN            NaN  \n",
        "1          NaN          NaN             NaN         NaN            NaN  \n",
        "2          NaN          NaN             NaN         NaN            NaN  \n",
        "3          NaN          NaN             NaN         NaN            NaN  \n",
        "4          NaN          NaN             NaN         NaN            NaN  "
       ]
      }
     ],
     "prompt_number": 22
    },
    {
     "cell_type": "code",
     "collapsed": false,
     "input": [
      "ds3 = copper.Dataset(cols3)\n",
      "ds3.percent_missing()"
     ],
     "language": "python",
     "metadata": {},
     "outputs": [
      {
       "output_type": "pyout",
       "prompt_number": 23,
       "text": [
        "Enclosure_Type     0.937129\n",
        "Blade_Width        0.937129\n",
        "Blade_Extension    0.937129\n",
        "Turbocharged       0.802720\n",
        "Stick              0.802720\n",
        "Pad_Type           0.802720\n",
        "Drive_System       0.739829\n",
        "Ride_Control       0.629527\n",
        "Transmission       0.543210\n",
        "Forks              0.521154\n",
        "Enclosure          0.000810"
       ]
      }
     ],
     "prompt_number": 23
    },
    {
     "cell_type": "markdown",
     "metadata": {},
     "source": [
      "By default only `Enclosure` will be an input so lets see if need to be cleaned."
     ]
    },
    {
     "cell_type": "code",
     "collapsed": false,
     "input": [
      "set(ds3['Enclosure'])"
     ],
     "language": "python",
     "metadata": {},
     "outputs": [
      {
       "output_type": "pyout",
       "prompt_number": 24,
       "text": [
        "set([nan,\n",
        "     'None or Unspecified',\n",
        "     'OROPS',\n",
        "     'EROPS w AC',\n",
        "     'NO ROPS',\n",
        "     'EROPS AC',\n",
        "     'EROPS'])"
       ]
      }
     ],
     "prompt_number": 24
    },
    {
     "cell_type": "markdown",
     "metadata": {},
     "source": [
      "I believe 'EROPS w AC' and 'EROPS AC' are the same, probably should look at the forum of the competition but for now lets say I am right. Also I change the 'None or Unspecified' to nan."
     ]
    },
    {
     "cell_type": "code",
     "collapsed": false,
     "input": [
      "ds3['Enclosure'][ds3['Enclosure'] == 'EROPS w AC'] = 'EROPS AC'\n",
      "ds3['Enclosure'][ds3['Enclosure'] == 'None or Unspecified'] = np.nan"
     ],
     "language": "python",
     "metadata": {},
     "outputs": [],
     "prompt_number": 25
    },
    {
     "cell_type": "markdown",
     "metadata": {},
     "source": [
      "Since I create some new nans let's see if that changes the missing values."
     ]
    },
    {
     "cell_type": "code",
     "collapsed": false,
     "input": [
      "ds3.percent_missing()['Enclosure']"
     ],
     "language": "python",
     "metadata": {},
     "outputs": [
      {
       "output_type": "pyout",
       "prompt_number": 26,
       "text": [
        "0.00081520722966654802"
       ]
      }
     ],
     "prompt_number": 26
    },
    {
     "cell_type": "markdown",
     "metadata": {},
     "source": [
      "Lets take a quick look at 'Forks' which is just above the rejection limit."
     ]
    },
    {
     "cell_type": "code",
     "collapsed": false,
     "input": [
      "set(ds3['Forks'])"
     ],
     "language": "python",
     "metadata": {},
     "outputs": [
      {
       "output_type": "pyout",
       "prompt_number": 27,
       "text": [
        "set([nan, 'Yes', 'None or Unspecified'])"
       ]
      }
     ],
     "prompt_number": 27
    },
    {
     "cell_type": "code",
     "collapsed": false,
     "input": [
      "ds3['Forks'][ds3['Forks'] == 'None or Unspecified'] = np.nan"
     ],
     "language": "python",
     "metadata": {},
     "outputs": [],
     "prompt_number": 28
    },
    {
     "cell_type": "code",
     "collapsed": false,
     "input": [
      "ds3.percent_missing()['Forks']"
     ],
     "language": "python",
     "metadata": {},
     "outputs": [
      {
       "output_type": "pyout",
       "prompt_number": 29,
       "text": [
        "0.96565409784979739"
       ]
      }
     ],
     "prompt_number": 29
    },
    {
     "cell_type": "markdown",
     "metadata": {},
     "source": [
      "Changing 'None or Unespecified' to nan make the variable almost all missing values so is not usefull at all. The final metadata for this section is:"
     ]
    },
    {
     "cell_type": "code",
     "collapsed": false,
     "input": [
      "ds3.metadata"
     ],
     "language": "python",
     "metadata": {},
     "outputs": [
      {
       "html": [
        "<div style=\"max-height:1000px;max-width:1500px;overflow:auto;\">\n",
        "<table border=\"1\" class=\"dataframe\">\n",
        "  <thead>\n",
        "    <tr style=\"text-align: right;\">\n",
        "      <th></th>\n",
        "      <th>Role</th>\n",
        "      <th>Type</th>\n",
        "      <th>dtype</th>\n",
        "    </tr>\n",
        "  </thead>\n",
        "  <tbody>\n",
        "    <tr>\n",
        "      <th>Drive_System</th>\n",
        "      <td> Reject</td>\n",
        "      <td> Category</td>\n",
        "      <td> object</td>\n",
        "    </tr>\n",
        "    <tr>\n",
        "      <th>Enclosure</th>\n",
        "      <td>  Input</td>\n",
        "      <td> Category</td>\n",
        "      <td> object</td>\n",
        "    </tr>\n",
        "    <tr>\n",
        "      <th>Forks</th>\n",
        "      <td> Reject</td>\n",
        "      <td> Category</td>\n",
        "      <td> object</td>\n",
        "    </tr>\n",
        "    <tr>\n",
        "      <th>Pad_Type</th>\n",
        "      <td> Reject</td>\n",
        "      <td> Category</td>\n",
        "      <td> object</td>\n",
        "    </tr>\n",
        "    <tr>\n",
        "      <th>Ride_Control</th>\n",
        "      <td> Reject</td>\n",
        "      <td> Category</td>\n",
        "      <td> object</td>\n",
        "    </tr>\n",
        "    <tr>\n",
        "      <th>Stick</th>\n",
        "      <td> Reject</td>\n",
        "      <td> Category</td>\n",
        "      <td> object</td>\n",
        "    </tr>\n",
        "    <tr>\n",
        "      <th>Transmission</th>\n",
        "      <td> Reject</td>\n",
        "      <td> Category</td>\n",
        "      <td> object</td>\n",
        "    </tr>\n",
        "    <tr>\n",
        "      <th>Turbocharged</th>\n",
        "      <td> Reject</td>\n",
        "      <td> Category</td>\n",
        "      <td> object</td>\n",
        "    </tr>\n",
        "    <tr>\n",
        "      <th>Blade_Extension</th>\n",
        "      <td> Reject</td>\n",
        "      <td> Category</td>\n",
        "      <td> object</td>\n",
        "    </tr>\n",
        "    <tr>\n",
        "      <th>Blade_Width</th>\n",
        "      <td> Reject</td>\n",
        "      <td> Category</td>\n",
        "      <td> object</td>\n",
        "    </tr>\n",
        "    <tr>\n",
        "      <th>Enclosure_Type</th>\n",
        "      <td> Reject</td>\n",
        "      <td> Category</td>\n",
        "      <td> object</td>\n",
        "    </tr>\n",
        "  </tbody>\n",
        "</table>\n",
        "</div>"
       ],
       "output_type": "pyout",
       "prompt_number": 30,
       "text": [
        "                   Role      Type   dtype\n",
        "Drive_System     Reject  Category  object\n",
        "Enclosure         Input  Category  object\n",
        "Forks            Reject  Category  object\n",
        "Pad_Type         Reject  Category  object\n",
        "Ride_Control     Reject  Category  object\n",
        "Stick            Reject  Category  object\n",
        "Transmission     Reject  Category  object\n",
        "Turbocharged     Reject  Category  object\n",
        "Blade_Extension  Reject  Category  object\n",
        "Blade_Width      Reject  Category  object\n",
        "Enclosure_Type   Reject  Category  object"
       ]
      }
     ],
     "prompt_number": 30
    },
    {
     "cell_type": "heading",
     "level": 2,
     "metadata": {},
     "source": [
      "Columns 4"
     ]
    },
    {
     "cell_type": "markdown",
     "metadata": {},
     "source": [
      "Let's see the remaining columns and their missing values."
     ]
    },
    {
     "cell_type": "code",
     "collapsed": false,
     "input": [
      "ds4 = copper.Dataset(train[train.columns[31:]])\n",
      "ds4.percent_missing()"
     ],
     "language": "python",
     "metadata": {},
     "outputs": [
      {
       "output_type": "pyout",
       "prompt_number": 31,
       "text": [
        "Tip_Control                0.937129\n",
        "Pushblock                  0.937129\n",
        "Engine_Horsepower          0.937129\n",
        "Scarifier                  0.937102\n",
        "Hydraulics_Flow            0.891899\n",
        "Grouser_Tracks             0.891899\n",
        "Coupler_System             0.891660\n",
        "Steering_Controls          0.827064\n",
        "Differential_Type          0.826959\n",
        "Backhoe_Mounting           0.803872\n",
        "Blade_Type                 0.800977\n",
        "Travel_Controls            0.800975\n",
        "Tire_Size                  0.763869\n",
        "Grouser_Type               0.752813\n",
        "Track_Type                 0.752813\n",
        "Pattern_Changer            0.752651\n",
        "Stick_Length               0.752651\n",
        "Thumb                      0.752476\n",
        "Undercarriage_Pad_Width    0.751020\n",
        "Ripper                     0.740388\n",
        "Coupler                    0.466620\n",
        "Hydraulics                 0.200823"
       ]
      }
     ],
     "prompt_number": 31
    },
    {
     "cell_type": "markdown",
     "metadata": {},
     "source": [
      "Almost everything is rejected. Let's take a look at what is not rejected."
     ]
    },
    {
     "cell_type": "code",
     "collapsed": false,
     "input": [
      "set(ds4['Coupler'])"
     ],
     "language": "python",
     "metadata": {},
     "outputs": [
      {
       "output_type": "pyout",
       "prompt_number": 32,
       "text": [
        "set([nan, 'None or Unspecified', 'Manual', 'Hydraulic'])"
       ]
      }
     ],
     "prompt_number": 32
    },
    {
     "cell_type": "code",
     "collapsed": false,
     "input": [
      "set(ds4['Hydraulics'])"
     ],
     "language": "python",
     "metadata": {},
     "outputs": [
      {
       "output_type": "pyout",
       "prompt_number": 33,
       "text": [
        "set([nan,\n",
        "     'None or Unspecified',\n",
        "     'Base + 3 Function',\n",
        "     'Auxiliary',\n",
        "     'Base + 4 Function',\n",
        "     'Base + 1 Function',\n",
        "     'Standard',\n",
        "     'Base + 6 Function',\n",
        "     '4 Valve',\n",
        "     '3 Valve',\n",
        "     '2 Valve',\n",
        "     'Base + 5 Function',\n",
        "     'Base + 2 Function'])"
       ]
      }
     ],
     "prompt_number": 33
    },
    {
     "cell_type": "markdown",
     "metadata": {},
     "source": [
      "Need to change the 'None or Unspecified' to nan and see what happens."
     ]
    },
    {
     "cell_type": "code",
     "collapsed": false,
     "input": [
      "ds4['Coupler'][ds4['Coupler'] == 'None or Unspecified'] = np.nan\n",
      "ds4['Hydraulics'][ds4['Hydraulics'] == 'None or Unspecified'] = np.nan"
     ],
     "language": "python",
     "metadata": {},
     "outputs": [],
     "prompt_number": 34
    },
    {
     "cell_type": "code",
     "collapsed": false,
     "input": [
      "ds4.percent_missing()[['Coupler', 'Hydraulics']]"
     ],
     "language": "python",
     "metadata": {},
     "outputs": [
      {
       "output_type": "pyout",
       "prompt_number": 35,
       "text": [
        "Coupler       0.926781\n",
        "Hydraulics    0.200848"
       ]
      }
     ],
     "prompt_number": 35
    },
    {
     "cell_type": "markdown",
     "metadata": {},
     "source": [
      "`Hydraulics` maintains low missing values but `Coupler` is now huge on missing values so reject."
     ]
    },
    {
     "cell_type": "code",
     "collapsed": false,
     "input": [
      "ds4.role['Coupler'] = ds4.REJECTED"
     ],
     "language": "python",
     "metadata": {},
     "outputs": [],
     "prompt_number": 36
    },
    {
     "cell_type": "heading",
     "level": 2,
     "metadata": {},
     "source": [
      "Join"
     ]
    },
    {
     "cell_type": "markdown",
     "metadata": {},
     "source": [
      "With all the datasets ready we can join them into one huge dataset."
     ]
    },
    {
     "cell_type": "code",
     "collapsed": false,
     "input": [
      "ds = copper.join(ds1, ds2, others=[ds3, ds4])"
     ],
     "language": "python",
     "metadata": {},
     "outputs": [],
     "prompt_number": 37
    },
    {
     "cell_type": "markdown",
     "metadata": {},
     "source": [
      "Let's just check the number of rows and columns."
     ]
    },
    {
     "cell_type": "code",
     "collapsed": false,
     "input": [
      "len(ds), len(ds.columns)"
     ],
     "language": "python",
     "metadata": {},
     "outputs": [
      {
       "output_type": "pyout",
       "prompt_number": 38,
       "text": [
        "(401125, 53)"
       ]
      }
     ],
     "prompt_number": 38
    },
    {
     "cell_type": "markdown",
     "metadata": {},
     "source": [
      "We have everything but I am not going to use all the rejected data in machine learning so let's filter the data taking only the Inputs and Targets.\n",
      "\n",
      "Note: By default the `filter` method returns a `pandas.DataFrame` but on this case I want a Dataset so I use the `ret_ds` parameter."
     ]
    },
    {
     "cell_type": "code",
     "collapsed": false,
     "input": [
      "ds = ds.filter(role=['Input', 'Target'], ret_ds=True)"
     ],
     "language": "python",
     "metadata": {},
     "outputs": [],
     "prompt_number": 39
    },
    {
     "cell_type": "markdown",
     "metadata": {},
     "source": [
      "Just a final check on the first values and missing values."
     ]
    },
    {
     "cell_type": "code",
     "collapsed": false,
     "input": [
      "ds.head()"
     ],
     "language": "python",
     "metadata": {},
     "outputs": [
      {
       "html": [
        "<div style=\"max-height:1000px;max-width:1500px;overflow:auto;\">\n",
        "<table border=\"1\" class=\"dataframe\">\n",
        "  <thead>\n",
        "    <tr style=\"text-align: right;\">\n",
        "      <th></th>\n",
        "      <th>SalePrice</th>\n",
        "      <th>YearMade</th>\n",
        "      <th>saledate</th>\n",
        "      <th>fiBaseModel</th>\n",
        "      <th>fiSecondaryDesc</th>\n",
        "      <th>ProductSize</th>\n",
        "      <th>state</th>\n",
        "      <th>ProductGroup</th>\n",
        "      <th>Enclosure</th>\n",
        "      <th>Hydraulics</th>\n",
        "    </tr>\n",
        "  </thead>\n",
        "  <tbody>\n",
        "    <tr>\n",
        "      <th>0</th>\n",
        "      <td> 66000</td>\n",
        "      <td> 2004</td>\n",
        "      <td> 13468</td>\n",
        "      <td>   521</td>\n",
        "      <td>   D</td>\n",
        "      <td>    NaN</td>\n",
        "      <td>        Alabama</td>\n",
        "      <td>  WL</td>\n",
        "      <td> EROPS AC</td>\n",
        "      <td>   2 Valve</td>\n",
        "    </tr>\n",
        "    <tr>\n",
        "      <th>1</th>\n",
        "      <td> 57000</td>\n",
        "      <td> 1996</td>\n",
        "      <td> 12503</td>\n",
        "      <td>   950</td>\n",
        "      <td>   F</td>\n",
        "      <td> Medium</td>\n",
        "      <td> North Carolina</td>\n",
        "      <td>  WL</td>\n",
        "      <td> EROPS AC</td>\n",
        "      <td>   2 Valve</td>\n",
        "    </tr>\n",
        "    <tr>\n",
        "      <th>2</th>\n",
        "      <td> 10000</td>\n",
        "      <td> 2001</td>\n",
        "      <td> 12474</td>\n",
        "      <td>   226</td>\n",
        "      <td> NaN</td>\n",
        "      <td>    NaN</td>\n",
        "      <td>       New York</td>\n",
        "      <td> SSL</td>\n",
        "      <td>    OROPS</td>\n",
        "      <td> Auxiliary</td>\n",
        "    </tr>\n",
        "    <tr>\n",
        "      <th>3</th>\n",
        "      <td> 38500</td>\n",
        "      <td> 2001</td>\n",
        "      <td> 15113</td>\n",
        "      <td> PC120</td>\n",
        "      <td> NaN</td>\n",
        "      <td>  Small</td>\n",
        "      <td>          Texas</td>\n",
        "      <td> TEX</td>\n",
        "      <td> EROPS AC</td>\n",
        "      <td>   2 Valve</td>\n",
        "    </tr>\n",
        "    <tr>\n",
        "      <th>4</th>\n",
        "      <td> 11000</td>\n",
        "      <td> 2007</td>\n",
        "      <td> 14448</td>\n",
        "      <td>  S175</td>\n",
        "      <td> NaN</td>\n",
        "      <td>    NaN</td>\n",
        "      <td>       New York</td>\n",
        "      <td> SSL</td>\n",
        "      <td>    EROPS</td>\n",
        "      <td> Auxiliary</td>\n",
        "    </tr>\n",
        "  </tbody>\n",
        "</table>\n",
        "</div>"
       ],
       "output_type": "pyout",
       "prompt_number": 40,
       "text": [
        "   SalePrice  YearMade  saledate fiBaseModel fiSecondaryDesc ProductSize  \\\n",
        "0      66000      2004     13468         521               D         NaN   \n",
        "1      57000      1996     12503         950               F      Medium   \n",
        "2      10000      2001     12474         226             NaN         NaN   \n",
        "3      38500      2001     15113       PC120             NaN       Small   \n",
        "4      11000      2007     14448        S175             NaN         NaN   \n",
        "\n",
        "            state ProductGroup Enclosure Hydraulics  \n",
        "0         Alabama           WL  EROPS AC    2 Valve  \n",
        "1  North Carolina           WL  EROPS AC    2 Valve  \n",
        "2        New York          SSL     OROPS  Auxiliary  \n",
        "3           Texas          TEX  EROPS AC    2 Valve  \n",
        "4        New York          SSL     EROPS  Auxiliary  "
       ]
      }
     ],
     "prompt_number": 40
    },
    {
     "cell_type": "code",
     "collapsed": false,
     "input": [
      "ds.percent_missing()"
     ],
     "language": "python",
     "metadata": {},
     "outputs": [
      {
       "output_type": "pyout",
       "prompt_number": 41,
       "text": [
        "ProductSize        0.525460\n",
        "fiSecondaryDesc    0.342016\n",
        "Hydraulics         0.200848\n",
        "Enclosure          0.000815\n",
        "ProductGroup       0.000000\n",
        "state              0.000000\n",
        "fiBaseModel        0.000000\n",
        "saledate           0.000000\n",
        "YearMade           0.000000\n",
        "SalePrice          0.000000"
       ]
      }
     ],
     "prompt_number": 41
    },
    {
     "cell_type": "markdown",
     "metadata": {},
     "source": [
      "Finally save the (pickled) Dataset for future use."
     ]
    },
    {
     "cell_type": "code",
     "collapsed": false,
     "input": [
      "copper.save(ds, 'cleaned')"
     ],
     "language": "python",
     "metadata": {},
     "outputs": [],
     "prompt_number": 42
    },
    {
     "cell_type": "heading",
     "level": 2,
     "metadata": {},
     "source": [
      "Conclusion"
     ]
    },
    {
     "cell_type": "markdown",
     "metadata": {},
     "source": [
      "Removing and addind columns using copper Datasets is really easy and the new join feature makes easier this kind of tasks.\n",
      "\n",
      "What I don't like is that I removed 43 columns and I dont have very high expectations only using the remaining 10 for machine learning. Usually the dates are not that useful, but will see the, and I prefer to have less columns with good information than 43 columns with 95% missing values. But that is the data available so I guess there is nothing much to do.\n",
      "\n",
      "I created a repo for this [kaggle competition](https://github.com/danielfrg/kaggle-bulldozers), there are only 30 days left so I want to make a few submisions, stay tunned for imputation and some machine learning. The code for [copper is on github](https://github.com/danielfrg/copper) too."
     ]
    }
   ],
   "metadata": {}
  }
 ]
}