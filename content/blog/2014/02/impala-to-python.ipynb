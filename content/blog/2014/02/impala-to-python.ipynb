{
 "metadata": {
  "name": ""
 },
 "nbformat": 3,
 "nbformat_minor": 0,
 "worksheets": [
  {
   "cells": [
    {
     "cell_type": "markdown",
     "metadata": {},
     "source": [
      "For good or bad HDFS is where the data is placed today and we all know this data is hard and slow to query and analyze. The good news is that the people at Cloudera created [impala](http://www.cloudera.com/content/cloudera/en/products-and-services/cdh/impala.html), basic idea is: __fast__ SQL on Hadoop (HDFS or HBase) using the Hive metastore.\n",
      "\n",
      "For good or for bad Hadoop is not were Data Science happens it usually happens in R or python, good news is that the folks at cloudera made sure that is very easy to extract data out of impala using standard technologies such as ODBC or [thrift](http://thrift.apache.org/).\n",
      "\n",
      "In this post I try some tools to extract data from impala to python (pandas) to do in memory analysis.\n",
      "\n",
      "The setup is quite simple since I am running the cloudera (CDH 4.6) in my own computer using their [virtual machine](http://www.cloudera.com/content/support/en/downloads/download-components/download-products.html), just be sure to port forward port 21050, if you are in the cloud (EC2) just be sure to open that port. The data is just a table of 100,000 rows and 3 columns in AVRO format based on the [getting started with AVRO example](http://avro.apache.org/docs/1.7.6/gettingstartedpython.html).\n",
      "\n",
      "Locally just need to download the [impala ODBC driver](http://www.cloudera.com/content/cloudera-content/cloudera-docs/Impala/latest/Installing-and-Using-Impala/ciiu_impala_odbc.html) and the python requirements are: `numpy`, `pandas`, and `thrift` (on OS X `brew install thrift`), use [Anaconda](https://store.continuum.io/cshop/anaconda/)."
     ]
    },
    {
     "cell_type": "heading",
     "level": 2,
     "metadata": {},
     "source": [
      "pyodbc"
     ]
    },
    {
     "cell_type": "markdown",
     "metadata": {},
     "source": [
      "[pyodbc](https://code.google.com/p/pyodbc/) gives you access to data stores via ODBC, install it using anaconda by running `conda install pyodbc`, the code is very straight forward. Note that the driver location is for OS X, change it on linux or windows."
     ]
    },
    {
     "cell_type": "code",
     "collapsed": false,
     "input": [
      "import numpy as np\n",
      "import pandas as pd"
     ],
     "language": "python",
     "metadata": {},
     "outputs": [],
     "prompt_number": 1
    },
    {
     "cell_type": "code",
     "collapsed": false,
     "input": [
      "import pyodbc"
     ],
     "language": "python",
     "metadata": {},
     "outputs": [],
     "prompt_number": 2
    },
    {
     "cell_type": "code",
     "collapsed": false,
     "input": [
      "connection_string = '''Driver=/opt/cloudera/impalaodbc/lib/universal/libclouderaimpalaodbc.dylib;\n",
      "HOST=localhost;\n",
      "PORT=21050'''"
     ],
     "language": "python",
     "metadata": {},
     "outputs": [],
     "prompt_number": 3
    },
    {
     "cell_type": "code",
     "collapsed": false,
     "input": [
      "connection = pyodbc.connect(connection_string, autocommit=True)"
     ],
     "language": "python",
     "metadata": {},
     "outputs": [],
     "prompt_number": 4
    },
    {
     "cell_type": "code",
     "collapsed": false,
     "input": [
      "cursor = connection.cursor()"
     ],
     "language": "python",
     "metadata": {},
     "outputs": [],
     "prompt_number": 5
    },
    {
     "cell_type": "code",
     "collapsed": false,
     "input": [
      "cursor.execute('SELECT * FROM avro_users LIMIT 100')"
     ],
     "language": "python",
     "metadata": {},
     "outputs": [
      {
       "metadata": {},
       "output_type": "pyout",
       "prompt_number": 6,
       "text": [
        "<pyodbc.Cursor at 0x1059e6330>"
       ]
      }
     ],
     "prompt_number": 6
    },
    {
     "cell_type": "markdown",
     "metadata": {},
     "source": [
      "I took the code below from the impyla library, read more about it below."
     ]
    },
    {
     "cell_type": "code",
     "collapsed": false,
     "input": [
      "def as_pandas(cursor):\n",
      "    names = [metadata[0] for metadata in cursor.description]\n",
      "    return pd.DataFrame([dict(zip(names, row)) for row in cursor], columns=names)"
     ],
     "language": "python",
     "metadata": {},
     "outputs": [],
     "prompt_number": 7
    },
    {
     "cell_type": "code",
     "collapsed": false,
     "input": [
      "df = as_pandas(cursor)"
     ],
     "language": "python",
     "metadata": {},
     "outputs": [],
     "prompt_number": 8
    },
    {
     "cell_type": "code",
     "collapsed": false,
     "input": [
      "df.head()"
     ],
     "language": "python",
     "metadata": {},
     "outputs": [
      {
       "html": [
        "<div style=\"max-height:1000px;max-width:1500px;overflow:auto;\">\n",
        "<table border=\"1\" class=\"dataframe\">\n",
        "  <thead>\n",
        "    <tr style=\"text-align: right;\">\n",
        "      <th></th>\n",
        "      <th>name</th>\n",
        "      <th>favorite_number</th>\n",
        "      <th>favorite_color</th>\n",
        "    </tr>\n",
        "  </thead>\n",
        "  <tbody>\n",
        "    <tr>\n",
        "      <th>0</th>\n",
        "      <td> a</td>\n",
        "      <td> 45</td>\n",
        "      <td> None</td>\n",
        "    </tr>\n",
        "    <tr>\n",
        "      <th>1</th>\n",
        "      <td> b</td>\n",
        "      <td> 78</td>\n",
        "      <td> None</td>\n",
        "    </tr>\n",
        "    <tr>\n",
        "      <th>2</th>\n",
        "      <td> c</td>\n",
        "      <td> 78</td>\n",
        "      <td> None</td>\n",
        "    </tr>\n",
        "    <tr>\n",
        "      <th>3</th>\n",
        "      <td> d</td>\n",
        "      <td>  8</td>\n",
        "      <td> None</td>\n",
        "    </tr>\n",
        "    <tr>\n",
        "      <th>4</th>\n",
        "      <td> a</td>\n",
        "      <td> 34</td>\n",
        "      <td> None</td>\n",
        "    </tr>\n",
        "  </tbody>\n",
        "</table>\n",
        "<p>5 rows \u00d7 3 columns</p>\n",
        "</div>"
       ],
       "metadata": {},
       "output_type": "pyout",
       "prompt_number": 9,
       "text": [
        "  name  favorite_number favorite_color\n",
        "0    a               45           None\n",
        "1    b               78           None\n",
        "2    c               78           None\n",
        "3    d                8           None\n",
        "4    a               34           None\n",
        "\n",
        "[5 rows x 3 columns]"
       ]
      }
     ],
     "prompt_number": 9
    },
    {
     "cell_type": "code",
     "collapsed": false,
     "input": [
      "df.shape"
     ],
     "language": "python",
     "metadata": {},
     "outputs": [
      {
       "metadata": {},
       "output_type": "pyout",
       "prompt_number": 10,
       "text": [
        "(100, 3)"
       ]
      }
     ],
     "prompt_number": 10
    },
    {
     "cell_type": "code",
     "collapsed": false,
     "input": [
      "cursor.close()"
     ],
     "language": "python",
     "metadata": {},
     "outputs": [],
     "prompt_number": 11
    },
    {
     "cell_type": "heading",
     "level": 2,
     "metadata": {},
     "source": [
      "IOPro"
     ]
    },
    {
     "cell_type": "markdown",
     "metadata": {},
     "source": [
      "> \"Fast, memory-efficient Python interface for SQL databases, NoSQL stores, Amazon S3, and large data files.\"\n",
      "\n",
      "[IOPro](https://store.continuum.io/cshop/iopro/) is a library form the amazing people at continuum analytics, it is not free but you can try it for 30 days for free, I have a student license and I use it from time to time, is very good. The main idea is to load data into numpy arrays directly, it skips python objects so is very memory efficient. For ODBC they forked pyodbc and added a few extra methods to fetch data."
     ]
    },
    {
     "cell_type": "code",
     "collapsed": false,
     "input": [
      "import iopro.pyodbc as io_pyodbc"
     ],
     "language": "python",
     "metadata": {},
     "outputs": [],
     "prompt_number": 12
    },
    {
     "cell_type": "code",
     "collapsed": false,
     "input": [
      "connection = io_pyodbc.connect(connection_string, autocommit=True)"
     ],
     "language": "python",
     "metadata": {},
     "outputs": [],
     "prompt_number": 13
    },
    {
     "cell_type": "code",
     "collapsed": false,
     "input": [
      "io_cursor = connection.cursor()"
     ],
     "language": "python",
     "metadata": {},
     "outputs": [],
     "prompt_number": 14
    },
    {
     "cell_type": "heading",
     "level": 3,
     "metadata": {},
     "source": [
      "Fetchdictarray"
     ]
    },
    {
     "cell_type": "markdown",
     "metadata": {},
     "source": [
      "Using IOPro you can fetch a dictionary of numpy arrays (`fetchdictarray()`) or just a numpy array (`fetchsarray()`)."
     ]
    },
    {
     "cell_type": "code",
     "collapsed": false,
     "input": [
      "io_cursor.execute('SELECT * FROM avro_users LIMIT 100')"
     ],
     "language": "python",
     "metadata": {},
     "outputs": [
      {
       "metadata": {},
       "output_type": "pyout",
       "prompt_number": 15,
       "text": [
        "<pyodbc.Cursor at 0x105ac37b0>"
       ]
      }
     ],
     "prompt_number": 15
    },
    {
     "cell_type": "code",
     "collapsed": false,
     "input": [
      "columns = [metadata[0] for metadata in io_cursor.description]"
     ],
     "language": "python",
     "metadata": {},
     "outputs": [],
     "prompt_number": 16
    },
    {
     "cell_type": "code",
     "collapsed": false,
     "input": [
      "data = io_cursor.fetchdictarray()"
     ],
     "language": "python",
     "metadata": {},
     "outputs": [],
     "prompt_number": 17
    },
    {
     "cell_type": "code",
     "collapsed": false,
     "input": [
      "df = pd.DataFrame.from_records(data, columns=columns)"
     ],
     "language": "python",
     "metadata": {},
     "outputs": [],
     "prompt_number": 18
    },
    {
     "cell_type": "code",
     "collapsed": false,
     "input": [
      "df.head()"
     ],
     "language": "python",
     "metadata": {},
     "outputs": [
      {
       "html": [
        "<div style=\"max-height:1000px;max-width:1500px;overflow:auto;\">\n",
        "<table border=\"1\" class=\"dataframe\">\n",
        "  <thead>\n",
        "    <tr style=\"text-align: right;\">\n",
        "      <th></th>\n",
        "      <th>name</th>\n",
        "      <th>favorite_number</th>\n",
        "      <th>favorite_color</th>\n",
        "    </tr>\n",
        "  </thead>\n",
        "  <tbody>\n",
        "    <tr>\n",
        "      <th>0</th>\n",
        "      <td> </td>\n",
        "      <td> 45</td>\n",
        "      <td> NA</td>\n",
        "    </tr>\n",
        "    <tr>\n",
        "      <th>1</th>\n",
        "      <td> </td>\n",
        "      <td> 78</td>\n",
        "      <td> NA</td>\n",
        "    </tr>\n",
        "    <tr>\n",
        "      <th>2</th>\n",
        "      <td> </td>\n",
        "      <td> 78</td>\n",
        "      <td> NA</td>\n",
        "    </tr>\n",
        "    <tr>\n",
        "      <th>3</th>\n",
        "      <td> </td>\n",
        "      <td>  8</td>\n",
        "      <td> NA</td>\n",
        "    </tr>\n",
        "    <tr>\n",
        "      <th>4</th>\n",
        "      <td> </td>\n",
        "      <td> 34</td>\n",
        "      <td> NA</td>\n",
        "    </tr>\n",
        "  </tbody>\n",
        "</table>\n",
        "<p>5 rows \u00d7 3 columns</p>\n",
        "</div>"
       ],
       "metadata": {},
       "output_type": "pyout",
       "prompt_number": 19,
       "text": [
        "  name  favorite_number favorite_color\n",
        "0                    45             NA\n",
        "1                    78             NA\n",
        "2                    78             NA\n",
        "3                     8             NA\n",
        "4                    34             NA\n",
        "\n",
        "[5 rows x 3 columns]"
       ]
      }
     ],
     "prompt_number": 19
    },
    {
     "cell_type": "code",
     "collapsed": false,
     "input": [
      "io_cursor.close()"
     ],
     "language": "python",
     "metadata": {},
     "outputs": [],
     "prompt_number": 20
    },
    {
     "cell_type": "markdown",
     "metadata": {},
     "source": [
      "You can see that there are some problems with the data, the `name` column is empty, and less crucial `favorite_color` is full of _\"NA\"_ strings. To fix this you need to fall back the `pyodbc` `fetchall()` which creates a python list of tuples and then use that to create the pandas DataFrame, not the best approach since the idea of IOPro is go directly to numpy skipping python objects.\n",
      "\n",
      "So for now if you want to use IOPro stick to numeric columns."
     ]
    },
    {
     "cell_type": "heading",
     "level": 2,
     "metadata": {},
     "source": [
      "Impyla"
     ]
    },
    {
     "cell_type": "markdown",
     "metadata": {},
     "source": [
      "Another free alternative is [impyla](https://github.com/laserson/impyla) which is not very updated on Pypi so better to install it from the git repo: `pip intall git+git://github.com/myuser/foo.git@3041bc5192ad46c397c23314039661e9519ffe25`. The main difference is that uses thrift instead of ODBC to get data from impala."
     ]
    },
    {
     "cell_type": "code",
     "collapsed": false,
     "input": [
      "import impala.dbapi\n",
      "import impala.util"
     ],
     "language": "python",
     "metadata": {},
     "outputs": [],
     "prompt_number": 21
    },
    {
     "cell_type": "code",
     "collapsed": false,
     "input": [
      "imp_connection = impala.dbapi.connect(host='localhost', port=21050)\n",
      "imp_cursor = connection.cursor()\n",
      "imp_cursor.execute('SELECT * FROM avro_users LIMIT 100')"
     ],
     "language": "python",
     "metadata": {},
     "outputs": [
      {
       "metadata": {},
       "output_type": "pyout",
       "prompt_number": 22,
       "text": [
        "<pyodbc.Cursor at 0x10a1108d0>"
       ]
      }
     ],
     "prompt_number": 22
    },
    {
     "cell_type": "code",
     "collapsed": false,
     "input": [
      "df = impala.util.as_pandas(imp_cursor)"
     ],
     "language": "python",
     "metadata": {},
     "outputs": [],
     "prompt_number": 23
    },
    {
     "cell_type": "code",
     "collapsed": false,
     "input": [
      "df.head()"
     ],
     "language": "python",
     "metadata": {},
     "outputs": [
      {
       "html": [
        "<div style=\"max-height:1000px;max-width:1500px;overflow:auto;\">\n",
        "<table border=\"1\" class=\"dataframe\">\n",
        "  <thead>\n",
        "    <tr style=\"text-align: right;\">\n",
        "      <th></th>\n",
        "      <th>name</th>\n",
        "      <th>favorite_number</th>\n",
        "      <th>favorite_color</th>\n",
        "    </tr>\n",
        "  </thead>\n",
        "  <tbody>\n",
        "    <tr>\n",
        "      <th>0</th>\n",
        "      <td> a</td>\n",
        "      <td> 45</td>\n",
        "      <td> None</td>\n",
        "    </tr>\n",
        "    <tr>\n",
        "      <th>1</th>\n",
        "      <td> b</td>\n",
        "      <td> 78</td>\n",
        "      <td> None</td>\n",
        "    </tr>\n",
        "    <tr>\n",
        "      <th>2</th>\n",
        "      <td> c</td>\n",
        "      <td> 78</td>\n",
        "      <td> None</td>\n",
        "    </tr>\n",
        "    <tr>\n",
        "      <th>3</th>\n",
        "      <td> d</td>\n",
        "      <td>  8</td>\n",
        "      <td> None</td>\n",
        "    </tr>\n",
        "    <tr>\n",
        "      <th>4</th>\n",
        "      <td> a</td>\n",
        "      <td> 34</td>\n",
        "      <td> None</td>\n",
        "    </tr>\n",
        "  </tbody>\n",
        "</table>\n",
        "<p>5 rows \u00d7 3 columns</p>\n",
        "</div>"
       ],
       "metadata": {},
       "output_type": "pyout",
       "prompt_number": 24,
       "text": [
        "  name  favorite_number favorite_color\n",
        "0    a               45           None\n",
        "1    b               78           None\n",
        "2    c               78           None\n",
        "3    d                8           None\n",
        "4    a               34           None\n",
        "\n",
        "[5 rows x 3 columns]"
       ]
      }
     ],
     "prompt_number": 24
    },
    {
     "cell_type": "code",
     "collapsed": false,
     "input": [
      "imp_cursor.close()"
     ],
     "language": "python",
     "metadata": {},
     "outputs": [],
     "prompt_number": 25
    },
    {
     "cell_type": "heading",
     "level": 2,
     "metadata": {},
     "source": [
      "Speedtest"
     ]
    },
    {
     "cell_type": "markdown",
     "metadata": {},
     "source": [
      "This is a __very__ simple speed test reading 100,000 rows from impala. Each case includes from the connection to creating a pandas DataFrame."
     ]
    },
    {
     "cell_type": "markdown",
     "metadata": {},
     "source": [
      "pyodbc"
     ]
    },
    {
     "cell_type": "code",
     "collapsed": false,
     "input": [
      "%%timeit -n5 -r5\n",
      "connection = pyodbc.connect(connection_string, autocommit=True)\n",
      "cursor = connection.cursor()\n",
      "cursor.execute('SELECT * FROM avro_users')\n",
      "data = cursor.fetchall()\n",
      "pd.DataFrame.from_records(data, columns=columns)\n",
      "cursor.close()"
     ],
     "language": "python",
     "metadata": {},
     "outputs": [
      {
       "output_type": "stream",
       "stream": "stdout",
       "text": [
        "5 loops, best of 5: 18.2 s per loop\n"
       ]
      }
     ],
     "prompt_number": 26
    },
    {
     "cell_type": "markdown",
     "metadata": {},
     "source": [
      "iopro"
     ]
    },
    {
     "cell_type": "code",
     "collapsed": false,
     "input": [
      "%%timeit -n5 -r5\n",
      "connection = io_pyodbc.connect(connection_string, autocommit=True, ansi=True)\n",
      "io_cursor = connection.cursor()\n",
      "io_cursor.execute('SELECT * FROM avro_users')\n",
      "data = io_cursor.fetchall()\n",
      "pd.DataFrame.from_records(data, columns=columns)\n",
      "io_cursor.close()"
     ],
     "language": "python",
     "metadata": {},
     "outputs": [
      {
       "output_type": "stream",
       "stream": "stdout",
       "text": [
        "5 loops, best of 5: 19.5 s per loop\n"
       ]
      }
     ],
     "prompt_number": 27
    },
    {
     "cell_type": "markdown",
     "metadata": {},
     "source": [
      "impyla"
     ]
    },
    {
     "cell_type": "code",
     "collapsed": false,
     "input": [
      "%%timeit -n5 -r5\n",
      "imp_connection = impala.dbapi.connect(host='localhost', port=21050)\n",
      "imp_cursor = connection.cursor()\n",
      "imp_cursor.execute('SELECT * FROM avro_users')\n",
      "impala.util.as_pandas(imp_cursor)\n",
      "imp_cursor.close()"
     ],
     "language": "python",
     "metadata": {},
     "outputs": [
      {
       "output_type": "stream",
       "stream": "stdout",
       "text": [
        "5 loops, best of 5: 18.8 s per loop\n"
       ]
      }
     ],
     "prompt_number": 28
    },
    {
     "cell_type": "markdown",
     "metadata": {},
     "source": [
      "Not surprisingly all of them are very similar since 1. the data is not really big (100,000 x 3) and 2. is located in a local virtual machine.\n",
      "\n",
      "On a previous execution of the timing I got that iopro was faster than the default ODBC and that impyla was even faster, so please do not take this numbers as a complete benchmark. Also note that where IOPro excels is memory efficiency, for more info look at [this blog post](http://continuum.io/blog/iopro-pyodbc-performance).\n",
      "\n",
      "From the three choices the easier to get up and running fast is impyla since thrift is easier to install, so if you don't care that much about memory and care more about getting the data out of impala I would recommend it. ODBC gives you nice features like transaction, but transactions are not available in impala (yet) so not much of a killer feature there.\n",
      "\n",
      "Do you have any other alternatives to extract data from Impala to python or general HDFS to python, specially to numpy arrays? Let me know.\n",
      "I will keep trying this technologies, specially with some real _\"big\"_ data and post more results if I find something interesting.\n"
     ]
    }
   ],
   "metadata": {}
  }
 ]
}
