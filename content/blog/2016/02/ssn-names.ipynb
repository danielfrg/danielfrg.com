{
 "cells": [
  {
   "cell_type": "markdown",
   "metadata": {},
   "source": [
    "<p class=\"note\">\n",
    "ReproduceIt is a series of articles that reproduce the results from data analysis articles focusing on having open data and open code.\n",
    "</p>"
   ]
  },
  {
   "cell_type": "markdown",
   "metadata": {},
   "source": [
    "Today as small return for the [ReproduceIt series](http://danielfrg.com/tag/reproduceit.html) \n",
    "I try to reproduce a simple but nice data analysis and webapp that [braid.io](http://braid.io/) did\n",
    "called [Most Beyonces are 14 years old and most Kanyes are about 11](http://braid.io/tile/name-trends).\n",
    "\n",
    "The article analyses the trend of names of some music artits (Beyonce, Kanye and Madona) in the US, it also has some nice possible explanations for the ups and downs in time, its a quick read. The data is based on Social Security Office and can be downloaded from the [SSN website: Beyond the Top 1000 Names](https://www.ssa.gov/oact/babynames/limits.html)\n",
    "\n",
    "The data is very small and loading it into pandas and plotting using bokeh it was very easy."
   ]
  },
  {
   "cell_type": "code",
   "execution_count": 1,
   "metadata": {
    "collapsed": true
   },
   "outputs": [],
   "source": [
    "%matplotlib inline"
   ]
  },
  {
   "cell_type": "code",
   "execution_count": 2,
   "metadata": {
    "collapsed": true
   },
   "outputs": [],
   "source": [
    "import pandas as pd"
   ]
  },
  {
   "cell_type": "code",
   "execution_count": 3,
   "metadata": {
    "collapsed": true
   },
   "outputs": [],
   "source": [
    "import os"
   ]
  },
  {
   "cell_type": "code",
   "execution_count": 4,
   "metadata": {
    "collapsed": true
   },
   "outputs": [],
   "source": [
    "data_dir = os.path.expanduser(\"~/data/names/names\")"
   ]
  },
  {
   "cell_type": "code",
   "execution_count": 5,
   "metadata": {
    "collapsed": false
   },
   "outputs": [],
   "source": [
    "files = os.listdir(data_dir)"
   ]
  },
  {
   "cell_type": "code",
   "execution_count": 6,
   "metadata": {
    "collapsed": false
   },
   "outputs": [],
   "source": [
    "data = pd.DataFrame(columns=[\"year\", \"name\", \"sex\", \"occurrences\"])"
   ]
  },
  {
   "cell_type": "code",
   "execution_count": 7,
   "metadata": {
    "collapsed": false
   },
   "outputs": [],
   "source": [
    "for fname in files:\n",
    "    if fname.endswith(\".txt\"):\n",
    "        fpath = os.path.join(data_dir, fname)\n",
    "        df = pd.read_csv(fpath, header=None, names=[\"name\", \"sex\", \"occurrences\"])\n",
    "        df[\"year\"] = int(fname[3:7])\n",
    "        data = data.append(df)"
   ]
  },
  {
   "cell_type": "code",
   "execution_count": 8,
   "metadata": {
    "collapsed": true
   },
   "outputs": [],
   "source": [
    "data.year = data.year.astype(int)"
   ]
  },
  {
   "cell_type": "code",
   "execution_count": 9,
   "metadata": {
    "collapsed": false
   },
   "outputs": [
    {
     "data": {
      "text/html": [
       "<div>\n",
       "<table border=\"1\" class=\"dataframe\">\n",
       "  <thead>\n",
       "    <tr style=\"text-align: right;\">\n",
       "      <th></th>\n",
       "      <th>name</th>\n",
       "      <th>occurrences</th>\n",
       "      <th>sex</th>\n",
       "      <th>year</th>\n",
       "    </tr>\n",
       "  </thead>\n",
       "  <tbody>\n",
       "    <tr>\n",
       "      <th>0</th>\n",
       "      <td>Mary</td>\n",
       "      <td>7065</td>\n",
       "      <td>F</td>\n",
       "      <td>1880</td>\n",
       "    </tr>\n",
       "    <tr>\n",
       "      <th>1</th>\n",
       "      <td>Anna</td>\n",
       "      <td>2604</td>\n",
       "      <td>F</td>\n",
       "      <td>1880</td>\n",
       "    </tr>\n",
       "    <tr>\n",
       "      <th>2</th>\n",
       "      <td>Emma</td>\n",
       "      <td>2003</td>\n",
       "      <td>F</td>\n",
       "      <td>1880</td>\n",
       "    </tr>\n",
       "    <tr>\n",
       "      <th>3</th>\n",
       "      <td>Elizabeth</td>\n",
       "      <td>1939</td>\n",
       "      <td>F</td>\n",
       "      <td>1880</td>\n",
       "    </tr>\n",
       "    <tr>\n",
       "      <th>4</th>\n",
       "      <td>Minnie</td>\n",
       "      <td>1746</td>\n",
       "      <td>F</td>\n",
       "      <td>1880</td>\n",
       "    </tr>\n",
       "  </tbody>\n",
       "</table>\n",
       "</div>"
      ],
      "text/plain": [
       "        name  occurrences sex  year\n",
       "0       Mary         7065   F  1880\n",
       "1       Anna         2604   F  1880\n",
       "2       Emma         2003   F  1880\n",
       "3  Elizabeth         1939   F  1880\n",
       "4     Minnie         1746   F  1880"
      ]
     },
     "execution_count": 9,
     "metadata": {},
     "output_type": "execute_result"
    }
   ],
   "source": [
    "data.head()"
   ]
  },
  {
   "cell_type": "code",
   "execution_count": 10,
   "metadata": {
    "collapsed": false
   },
   "outputs": [
    {
     "data": {
      "text/plain": [
       "(1825433, 4)"
      ]
     },
     "execution_count": 10,
     "metadata": {},
     "output_type": "execute_result"
    }
   ],
   "source": [
    "data.shape"
   ]
  },
  {
   "cell_type": "code",
   "execution_count": 11,
   "metadata": {
    "collapsed": false
   },
   "outputs": [
    {
     "data": {
      "text/plain": [
       "name            object\n",
       "occurrences    float64\n",
       "sex             object\n",
       "year             int64\n",
       "dtype: object"
      ]
     },
     "execution_count": 11,
     "metadata": {},
     "output_type": "execute_result"
    }
   ],
   "source": [
    "data.dtypes"
   ]
  },
  {
   "cell_type": "markdown",
   "metadata": {},
   "source": [
    "## Beyonce\n",
    "\n",
    "Now that the data is into a simple dataframe we can just filter by the name we want and make a Bar Chart."
   ]
  },
  {
   "cell_type": "code",
   "execution_count": 12,
   "metadata": {
    "collapsed": false
   },
   "outputs": [],
   "source": [
    "beyonce = data[data[\"name\"] == \"Beyonce\"][[\"year\", \"occurrences\"]]"
   ]
  },
  {
   "cell_type": "code",
   "execution_count": 13,
   "metadata": {
    "collapsed": false
   },
   "outputs": [],
   "source": [
    "from bokeh.charts import ColumnDataSource, Bar, output_notebook, show"
   ]
  },
  {
   "cell_type": "code",
   "execution_count": 14,
   "metadata": {
    "collapsed": true
   },
   "outputs": [],
   "source": [
    "from bokeh.models import HoverTool"
   ]
  },
  {
   "cell_type": "code",
   "execution_count": 15,
   "metadata": {
    "collapsed": false
   },
   "outputs": [
    {
     "data": {
      "text/html": [
       "\n",
       "    <div class=\"bk-banner\">\n",
       "        <a href=\"http://bokeh.pydata.org\" target=\"_blank\" class=\"bk-logo bk-logo-small bk-logo-notebook\"></a>\n",
       "        <span id=\"2ed91cc8-a0e5-4656-8d60-9a2e1a03c9fe\">Loading BokehJS ...</span>\n",
       "    </div>"
      ]
     },
     "metadata": {},
     "output_type": "display_data"
    },
    {
     "data": {
      "application/javascript": [
       "\n",
       "(function(global) {\n",
       "  function now() {\n",
       "    return new Date();\n",
       "  }\n",
       "\n",
       "  if (typeof (window._bokeh_onload_callbacks) === \"undefined\") {\n",
       "    window._bokeh_onload_callbacks = [];\n",
       "  }\n",
       "\n",
       "  function run_callbacks() {\n",
       "    window._bokeh_onload_callbacks.forEach(function(callback) { callback() });\n",
       "    delete window._bokeh_onload_callbacks\n",
       "    console.info(\"Bokeh: all callbacks have finished\");\n",
       "  }\n",
       "\n",
       "  function load_libs(js_urls, callback) {\n",
       "    window._bokeh_onload_callbacks.push(callback);\n",
       "    if (window._bokeh_is_loading > 0) {\n",
       "      console.log(\"Bokeh: BokehJS is being loaded, scheduling callback at\", now());\n",
       "      return null;\n",
       "    }\n",
       "    if (js_urls == null || js_urls.length === 0) {\n",
       "      run_callbacks();\n",
       "      return null;\n",
       "    }\n",
       "    console.log(\"Bokeh: BokehJS not loaded, scheduling load and callback at\", now());\n",
       "    window._bokeh_is_loading = js_urls.length;\n",
       "    for (var i = 0; i < js_urls.length; i++) {\n",
       "      var url = js_urls[i];\n",
       "      var s = document.createElement('script');\n",
       "      s.src = url;\n",
       "      s.async = false;\n",
       "      s.onreadystatechange = s.onload = function() {\n",
       "        window._bokeh_is_loading--;\n",
       "        if (window._bokeh_is_loading === 0) {\n",
       "          console.log(\"Bokeh: all BokehJS libraries loaded\");\n",
       "          run_callbacks()\n",
       "        }\n",
       "      };\n",
       "      s.onerror = function() {\n",
       "        console.warn(\"failed to load library \" + url);\n",
       "      };\n",
       "      console.log(\"Bokeh: injecting script tag for BokehJS library: \", url);\n",
       "      document.getElementsByTagName(\"head\")[0].appendChild(s);\n",
       "    }\n",
       "  };\n",
       "\n",
       "  var js_urls = ['https://cdn.pydata.org/bokeh/release/bokeh-0.11.1.min.js', 'https://cdn.pydata.org/bokeh/release/bokeh-widgets-0.11.1.min.js', 'https://cdn.pydata.org/bokeh/release/bokeh-compiler-0.11.1.min.js'];\n",
       "\n",
       "  var inline_js = [\n",
       "    function(Bokeh) {\n",
       "      Bokeh.set_log_level(\"info\");\n",
       "    },\n",
       "    \n",
       "    function(Bokeh) {\n",
       "      Bokeh.$(\"#2ed91cc8-a0e5-4656-8d60-9a2e1a03c9fe\").text(\"BokehJS successfully loaded\");\n",
       "    },\n",
       "    function(Bokeh) {\n",
       "      console.log(\"Bokeh: injecting CSS: https://cdn.pydata.org/bokeh/release/bokeh-0.11.1.min.css\");\n",
       "      Bokeh.embed.inject_css(\"https://cdn.pydata.org/bokeh/release/bokeh-0.11.1.min.css\");\n",
       "      console.log(\"Bokeh: injecting CSS: https://cdn.pydata.org/bokeh/release/bokeh-widgets-0.11.1.min.css\");\n",
       "      Bokeh.embed.inject_css(\"https://cdn.pydata.org/bokeh/release/bokeh-widgets-0.11.1.min.css\");\n",
       "    }\n",
       "  ];\n",
       "\n",
       "  function run_inline_js() {\n",
       "    for (var i = 0; i < inline_js.length; i++) {\n",
       "      inline_js[i](window.Bokeh);\n",
       "    }\n",
       "  }\n",
       "\n",
       "  if (window._bokeh_is_loading === 0) {\n",
       "    console.log(\"Bokeh: BokehJS loaded, going straight to plotting\");\n",
       "    run_inline_js();\n",
       "  } else {\n",
       "    load_libs(js_urls, function() {\n",
       "      console.log(\"Bokeh: BokehJS plotting callback run at\", now());\n",
       "      run_inline_js();\n",
       "    });\n",
       "  }\n",
       "}(this));"
      ]
     },
     "metadata": {},
     "output_type": "display_data"
    }
   ],
   "source": [
    "output_notebook()"
   ]
  },
  {
   "cell_type": "code",
   "execution_count": 16,
   "metadata": {
    "collapsed": false
   },
   "outputs": [
    {
     "data": {
      "text/html": [
       "\n",
       "\n",
       "    <div class=\"plotdiv\" id=\"905ec622-be7d-49aa-b248-aed5fb365ea8\"></div>\n",
       "<script type=\"text/javascript\">\n",
       "  \n",
       "  (function(global) {\n",
       "    function now() {\n",
       "      return new Date();\n",
       "    }\n",
       "  \n",
       "    if (typeof (window._bokeh_onload_callbacks) === \"undefined\") {\n",
       "      window._bokeh_onload_callbacks = [];\n",
       "    }\n",
       "  \n",
       "    function run_callbacks() {\n",
       "      window._bokeh_onload_callbacks.forEach(function(callback) { callback() });\n",
       "      delete window._bokeh_onload_callbacks\n",
       "      console.info(\"Bokeh: all callbacks have finished\");\n",
       "    }\n",
       "  \n",
       "    function load_libs(js_urls, callback) {\n",
       "      window._bokeh_onload_callbacks.push(callback);\n",
       "      if (window._bokeh_is_loading > 0) {\n",
       "        console.log(\"Bokeh: BokehJS is being loaded, scheduling callback at\", now());\n",
       "        return null;\n",
       "      }\n",
       "      if (js_urls == null || js_urls.length === 0) {\n",
       "        run_callbacks();\n",
       "        return null;\n",
       "      }\n",
       "      console.log(\"Bokeh: BokehJS not loaded, scheduling load and callback at\", now());\n",
       "      window._bokeh_is_loading = js_urls.length;\n",
       "      for (var i = 0; i < js_urls.length; i++) {\n",
       "        var url = js_urls[i];\n",
       "        var s = document.createElement('script');\n",
       "        s.src = url;\n",
       "        s.async = false;\n",
       "        s.onreadystatechange = s.onload = function() {\n",
       "          window._bokeh_is_loading--;\n",
       "          if (window._bokeh_is_loading === 0) {\n",
       "            console.log(\"Bokeh: all BokehJS libraries loaded\");\n",
       "            run_callbacks()\n",
       "          }\n",
       "        };\n",
       "        s.onerror = function() {\n",
       "          console.warn(\"failed to load library \" + url);\n",
       "        };\n",
       "        console.log(\"Bokeh: injecting script tag for BokehJS library: \", url);\n",
       "        document.getElementsByTagName(\"head\")[0].appendChild(s);\n",
       "      }\n",
       "    };var element = document.getElementById(\"905ec622-be7d-49aa-b248-aed5fb365ea8\");\n",
       "    if (element == null) {\n",
       "      console.log(\"Bokeh: ERROR: autoload.js configured with elementid '905ec622-be7d-49aa-b248-aed5fb365ea8' but no matching script tag was found. \")\n",
       "      return false;\n",
       "    }\n",
       "  \n",
       "    var js_urls = [];\n",
       "  \n",
       "    var inline_js = [\n",
       "      function(Bokeh) {\n",
       "        Bokeh.$(function() {\n",
       "            var docs_json = {\"549b628f-201e-47d7-87c1-b33660e1317c\":{\"roots\":{\"references\":[{\"attributes\":{\"fill_alpha\":{\"field\":\"fill_alpha\"},\"fill_color\":{\"field\":\"color\"},\"height\":{\"field\":\"height\",\"units\":\"data\"},\"line_color\":{\"field\":\"line_color\"},\"width\":{\"field\":\"width\",\"units\":\"data\"},\"x\":{\"field\":\"x\"},\"y\":{\"field\":\"y\"}},\"id\":\"7f7945c2-ee89-4fb3-9c39-5cf523ce6c86\",\"type\":\"Rect\"},{\"attributes\":{\"fill_alpha\":{\"field\":\"fill_alpha\"},\"fill_color\":{\"field\":\"color\"},\"height\":{\"field\":\"height\",\"units\":\"data\"},\"line_color\":{\"field\":\"line_color\"},\"width\":{\"field\":\"width\",\"units\":\"data\"},\"x\":{\"field\":\"x\"},\"y\":{\"field\":\"y\"}},\"id\":\"81425e40-b6e7-4d6f-bab7-26359ce6139b\",\"type\":\"Rect\"},{\"attributes\":{},\"id\":\"ece57f03-3cc7-4098-be0c-f76f556d95aa\",\"type\":\"BasicTicker\"},{\"attributes\":{\"callback\":null,\"column_names\":[\"y\",\"line_alpha\",\"height\",\"width\",\"color\",\"line_color\",\"fill_alpha\",\"x\"],\"data\":{\"chart_index\":[{\"year\":2004}],\"color\":[\"#0277BD\"],\"fill_alpha\":[0.8],\"height\":[175.0],\"line_alpha\":[1.0],\"line_color\":[\"white\"],\"width\":[0.8],\"x\":[\"2004\"],\"y\":[87.5],\"year\":[2004]}},\"id\":\"5db2f860-8575-410c-a9f1-0afafb4ffa80\",\"type\":\"ColumnDataSource\"},{\"attributes\":{},\"id\":\"b9d63173-4b4b-40d9-a70f-e430fa5dafa0\",\"type\":\"CategoricalTicker\"},{\"attributes\":{\"fill_alpha\":{\"field\":\"fill_alpha\"},\"fill_color\":{\"field\":\"color\"},\"height\":{\"field\":\"height\",\"units\":\"data\"},\"line_color\":{\"field\":\"line_color\"},\"width\":{\"field\":\"width\",\"units\":\"data\"},\"x\":{\"field\":\"x\"},\"y\":{\"field\":\"y\"}},\"id\":\"66db5397-9e3b-44ea-9df1-435d95b4dd66\",\"type\":\"Rect\"},{\"attributes\":{\"data_source\":{\"id\":\"12c6cef0-5550-4ec0-82e9-76dd468e044f\",\"type\":\"ColumnDataSource\"},\"glyph\":{\"id\":\"6d5c27cb-af97-49fa-b350-55f1e9f833a3\",\"type\":\"Rect\"},\"hover_glyph\":null,\"nonselection_glyph\":null,\"selection_glyph\":null},\"id\":\"d2e198d4-8900-4749-96d1-5d8bc89c28be\",\"type\":\"GlyphRenderer\"},{\"attributes\":{\"callback\":null,\"column_names\":[\"y\",\"line_alpha\",\"height\",\"width\",\"color\",\"line_color\",\"fill_alpha\",\"x\"],\"data\":{\"chart_index\":[{\"year\":1998}],\"color\":[\"#0277BD\"],\"fill_alpha\":[0.8],\"height\":[18.0],\"line_alpha\":[1.0],\"line_color\":[\"white\"],\"width\":[0.8],\"x\":[\"1998\"],\"y\":[9.0],\"year\":[1998]}},\"id\":\"c574048c-c50f-48ac-9aff-55e35c259e6f\",\"type\":\"ColumnDataSource\"},{\"attributes\":{\"data_source\":{\"id\":\"a89c404e-8a0f-4f7c-8b2e-8ab910c8f5c3\",\"type\":\"ColumnDataSource\"},\"glyph\":{\"id\":\"d6e38477-76a6-4dea-8932-e60276b850e2\",\"type\":\"Rect\"},\"hover_glyph\":null,\"nonselection_glyph\":null,\"selection_glyph\":null},\"id\":\"d609f6db-03e4-4284-ab30-c3ebac9695b1\",\"type\":\"GlyphRenderer\"},{\"attributes\":{\"fill_alpha\":{\"field\":\"fill_alpha\"},\"fill_color\":{\"field\":\"color\"},\"height\":{\"field\":\"height\",\"units\":\"data\"},\"line_color\":{\"field\":\"line_color\"},\"width\":{\"field\":\"width\",\"units\":\"data\"},\"x\":{\"field\":\"x\"},\"y\":{\"field\":\"y\"}},\"id\":\"016cfdef-d8ee-434a-a610-1b341dee00c5\",\"type\":\"Rect\"},{\"attributes\":{\"data_source\":{\"id\":\"30d1f426-77d9-4837-9b86-a772c68795f8\",\"type\":\"ColumnDataSource\"},\"glyph\":{\"id\":\"2d18a5a8-9ad4-4157-9b00-18a3ea91e5ee\",\"type\":\"Rect\"},\"hover_glyph\":null,\"nonselection_glyph\":null,\"selection_glyph\":null},\"id\":\"137b033e-8958-4f82-8011-64e58b00d866\",\"type\":\"GlyphRenderer\"},{\"attributes\":{\"fill_alpha\":{\"field\":\"fill_alpha\"},\"fill_color\":{\"field\":\"color\"},\"height\":{\"field\":\"height\",\"units\":\"data\"},\"line_color\":{\"field\":\"line_color\"},\"width\":{\"field\":\"width\",\"units\":\"data\"},\"x\":{\"field\":\"x\"},\"y\":{\"field\":\"y\"}},\"id\":\"3e31f4df-03e7-4ea3-944f-bd816a4c86a2\",\"type\":\"Rect\"},{\"attributes\":{\"callback\":null,\"column_names\":[\"y\",\"line_alpha\",\"height\",\"width\",\"color\",\"line_color\",\"fill_alpha\",\"x\"],\"data\":{\"chart_index\":[{\"year\":2001}],\"color\":[\"#0277BD\"],\"fill_alpha\":[0.8],\"height\":[353.0],\"line_alpha\":[1.0],\"line_color\":[\"white\"],\"width\":[0.8],\"x\":[\"2001\"],\"y\":[176.5],\"year\":[2001]}},\"id\":\"1bf89655-ea19-4ee2-a4b7-6355ad974fed\",\"type\":\"ColumnDataSource\"},{\"attributes\":{\"fill_alpha\":{\"field\":\"fill_alpha\"},\"fill_color\":{\"field\":\"color\"},\"height\":{\"field\":\"height\",\"units\":\"data\"},\"line_color\":{\"field\":\"line_color\"},\"width\":{\"field\":\"width\",\"units\":\"data\"},\"x\":{\"field\":\"x\"},\"y\":{\"field\":\"y\"}},\"id\":\"ca69dc3f-fe08-4634-b0f1-f0df177bbd37\",\"type\":\"Rect\"},{\"attributes\":{\"callback\":null,\"factors\":[\"1998\",\"1999\",\"2000\",\"2001\",\"2002\",\"2003\",\"2004\",\"2005\",\"2006\",\"2007\",\"2008\",\"2009\",\"2010\",\"2011\",\"2012\",\"2013\",\"2014\"]},\"id\":\"be0e8281-5ce9-45ea-b8b3-b0edb2d5b5a0\",\"type\":\"FactorRange\"},{\"attributes\":{\"data_source\":{\"id\":\"83c4cee8-ee74-472f-84e2-41ce4474985a\",\"type\":\"ColumnDataSource\"},\"glyph\":{\"id\":\"66713375-b330-448e-9d3d-0cbd98805032\",\"type\":\"Rect\"},\"hover_glyph\":null,\"nonselection_glyph\":null,\"selection_glyph\":null},\"id\":\"09810bf8-c3fb-41ec-8ded-bbfef6927318\",\"type\":\"GlyphRenderer\"},{\"attributes\":{\"data_source\":{\"id\":\"1bf89655-ea19-4ee2-a4b7-6355ad974fed\",\"type\":\"ColumnDataSource\"},\"glyph\":{\"id\":\"6013469b-6476-4595-a0e0-808a239b1a0e\",\"type\":\"Rect\"},\"hover_glyph\":null,\"nonselection_glyph\":null,\"selection_glyph\":null},\"id\":\"f50a68e7-a03a-4d30-8b4d-3f22a0534f78\",\"type\":\"GlyphRenderer\"},{\"attributes\":{\"callback\":null,\"column_names\":[\"y\",\"line_alpha\",\"height\",\"width\",\"color\",\"line_color\",\"fill_alpha\",\"x\"],\"data\":{\"chart_index\":[{\"year\":2012}],\"color\":[\"#0277BD\"],\"fill_alpha\":[0.8],\"height\":[36.0],\"line_alpha\":[1.0],\"line_color\":[\"white\"],\"width\":[0.8],\"x\":[\"2012\"],\"y\":[18.0],\"year\":[2012]}},\"id\":\"09576f89-e9d4-4671-a6a5-a3ac19ae932c\",\"type\":\"ColumnDataSource\"},{\"attributes\":{\"below\":[{\"id\":\"7fc25fc4-fd32-4653-a400-b45a16504b1d\",\"type\":\"CategoricalAxis\"}],\"left\":[{\"id\":\"7f58509c-bb21-44c2-86a1-6a77cb774fc9\",\"type\":\"LinearAxis\"}],\"legend\":null,\"renderers\":[{\"id\":\"109334bf-563e-4357-9a9a-4f2cc62647be\",\"type\":\"GlyphRenderer\"},{\"id\":\"1f10de11-36c0-4a00-86a0-1adc33259910\",\"type\":\"GlyphRenderer\"},{\"id\":\"d2e198d4-8900-4749-96d1-5d8bc89c28be\",\"type\":\"GlyphRenderer\"},{\"id\":\"f50a68e7-a03a-4d30-8b4d-3f22a0534f78\",\"type\":\"GlyphRenderer\"},{\"id\":\"53e43a9c-6787-4cfd-bc10-45b871df750a\",\"type\":\"GlyphRenderer\"},{\"id\":\"137b033e-8958-4f82-8011-64e58b00d866\",\"type\":\"GlyphRenderer\"},{\"id\":\"d258245f-1adc-4a20-86a0-6bc72a087911\",\"type\":\"GlyphRenderer\"},{\"id\":\"09810bf8-c3fb-41ec-8ded-bbfef6927318\",\"type\":\"GlyphRenderer\"},{\"id\":\"037d8d72-ce19-4709-8fb1-c3d62dd2f189\",\"type\":\"GlyphRenderer\"},{\"id\":\"d609f6db-03e4-4284-ab30-c3ebac9695b1\",\"type\":\"GlyphRenderer\"},{\"id\":\"bee13716-67b6-4f69-bcd3-288695b015ae\",\"type\":\"GlyphRenderer\"},{\"id\":\"2e865699-4295-44fa-a28a-4aad608555a0\",\"type\":\"GlyphRenderer\"},{\"id\":\"9b4f863b-47c2-47bc-be9f-7e483a859cb1\",\"type\":\"GlyphRenderer\"},{\"id\":\"db17b978-70df-495a-a2e4-05bf0152e1e1\",\"type\":\"GlyphRenderer\"},{\"id\":\"3e01fdc4-3f9d-4e33-afdb-37eb9e620cbc\",\"type\":\"GlyphRenderer\"},{\"id\":\"7be64964-a8d6-4132-ad96-69944e3132a8\",\"type\":\"GlyphRenderer\"},{\"id\":\"7a6fa6f7-705c-4ebf-ba26-b4d1cda61433\",\"type\":\"GlyphRenderer\"},{\"id\":\"7fc25fc4-fd32-4653-a400-b45a16504b1d\",\"type\":\"CategoricalAxis\"},{\"id\":\"7f58509c-bb21-44c2-86a1-6a77cb774fc9\",\"type\":\"LinearAxis\"},{\"id\":\"a8e7f726-4816-4f90-9bf7-8bc65f8e0cac\",\"type\":\"Grid\"}],\"title\":\"No. Babies named Beyonc\\u00e9\",\"title_text_font_size\":{\"value\":\"14pt\"},\"tool_events\":{\"id\":\"68861efb-2a73-4358-91c2-ed2ae91b2788\",\"type\":\"ToolEvents\"},\"tools\":[{\"id\":\"3fd4b3e5-b64e-4146-b60a-a107041c1319\",\"type\":\"PreviewSaveTool\"},{\"id\":\"9022725e-c639-4ffe-b8a4-4cf2c16626e3\",\"type\":\"ResetTool\"}],\"x_mapper_type\":\"auto\",\"x_range\":{\"id\":\"be0e8281-5ce9-45ea-b8b3-b0edb2d5b5a0\",\"type\":\"FactorRange\"},\"xgrid\":false,\"xscale\":\"auto\",\"y_mapper_type\":\"auto\",\"y_range\":{\"id\":\"e1e08de9-d7f9-47bb-ab87-3a0b97161dc3\",\"type\":\"Range1d\"},\"yscale\":\"auto\"},\"id\":\"085da3c0-dcdb-40a3-b98f-8d8c64646b3e\",\"subtype\":\"Chart\",\"type\":\"Plot\"},{\"attributes\":{\"fill_alpha\":{\"field\":\"fill_alpha\"},\"fill_color\":{\"field\":\"color\"},\"height\":{\"field\":\"height\",\"units\":\"data\"},\"line_color\":{\"field\":\"line_color\"},\"width\":{\"field\":\"width\",\"units\":\"data\"},\"x\":{\"field\":\"x\"},\"y\":{\"field\":\"y\"}},\"id\":\"f5900cc8-dbb9-4d3c-b49b-9c87135a9d12\",\"type\":\"Rect\"},{\"attributes\":{\"callback\":null,\"column_names\":[\"y\",\"line_alpha\",\"height\",\"width\",\"color\",\"line_color\",\"fill_alpha\",\"x\"],\"data\":{\"chart_index\":[{\"year\":2008}],\"color\":[\"#0277BD\"],\"fill_alpha\":[0.8],\"height\":[105.0],\"line_alpha\":[1.0],\"line_color\":[\"white\"],\"width\":[0.8],\"x\":[\"2008\"],\"y\":[52.5],\"year\":[2008]}},\"id\":\"7280a653-e13a-4330-a5eb-c4f6b8f8f81b\",\"type\":\"ColumnDataSource\"},{\"attributes\":{\"fill_alpha\":{\"field\":\"fill_alpha\"},\"fill_color\":{\"field\":\"color\"},\"height\":{\"field\":\"height\",\"units\":\"data\"},\"line_color\":{\"field\":\"line_color\"},\"width\":{\"field\":\"width\",\"units\":\"data\"},\"x\":{\"field\":\"x\"},\"y\":{\"field\":\"y\"}},\"id\":\"d22c794d-1391-4692-895a-eac23f441aba\",\"type\":\"Rect\"},{\"attributes\":{\"callback\":null,\"column_names\":[\"y\",\"line_alpha\",\"height\",\"width\",\"color\",\"line_color\",\"fill_alpha\",\"x\"],\"data\":{\"chart_index\":[{\"year\":2011}],\"color\":[\"#0277BD\"],\"fill_alpha\":[0.8],\"height\":[39.0],\"line_alpha\":[1.0],\"line_color\":[\"white\"],\"width\":[0.8],\"x\":[\"2011\"],\"y\":[19.5],\"year\":[2011]}},\"id\":\"8f5cc597-878c-43cf-a6a3-979af48161a0\",\"type\":\"ColumnDataSource\"},{\"attributes\":{\"fill_alpha\":{\"field\":\"fill_alpha\"},\"fill_color\":{\"field\":\"color\"},\"height\":{\"field\":\"height\",\"units\":\"data\"},\"line_color\":{\"field\":\"line_color\"},\"width\":{\"field\":\"width\",\"units\":\"data\"},\"x\":{\"field\":\"x\"},\"y\":{\"field\":\"y\"}},\"id\":\"2d18a5a8-9ad4-4157-9b00-18a3ea91e5ee\",\"type\":\"Rect\"},{\"attributes\":{\"callback\":null,\"column_names\":[\"y\",\"line_alpha\",\"height\",\"width\",\"color\",\"line_color\",\"fill_alpha\",\"x\"],\"data\":{\"chart_index\":[{\"year\":2009}],\"color\":[\"#0277BD\"],\"fill_alpha\":[0.8],\"height\":[79.0],\"line_alpha\":[1.0],\"line_color\":[\"white\"],\"width\":[0.8],\"x\":[\"2009\"],\"y\":[39.5],\"year\":[2009]}},\"id\":\"f4d533b3-7ee7-4939-940f-f5dfb1717b66\",\"type\":\"ColumnDataSource\"},{\"attributes\":{\"callback\":null,\"column_names\":[\"y\",\"line_alpha\",\"height\",\"width\",\"color\",\"line_color\",\"fill_alpha\",\"x\"],\"data\":{\"chart_index\":[{\"year\":2014}],\"color\":[\"#0277BD\"],\"fill_alpha\":[0.8],\"height\":[22.0],\"line_alpha\":[1.0],\"line_color\":[\"white\"],\"width\":[0.8],\"x\":[\"2014\"],\"y\":[11.0],\"year\":[2014]}},\"id\":\"59bc1132-5f28-484f-9f68-cb8b3bcba10f\",\"type\":\"ColumnDataSource\"},{\"attributes\":{\"callback\":null,\"end\":370.65},\"id\":\"e1e08de9-d7f9-47bb-ab87-3a0b97161dc3\",\"type\":\"Range1d\"},{\"attributes\":{\"data_source\":{\"id\":\"5db2f860-8575-410c-a9f1-0afafb4ffa80\",\"type\":\"ColumnDataSource\"},\"glyph\":{\"id\":\"3e31f4df-03e7-4ea3-944f-bd816a4c86a2\",\"type\":\"Rect\"},\"hover_glyph\":null,\"nonselection_glyph\":null,\"selection_glyph\":null},\"id\":\"d258245f-1adc-4a20-86a0-6bc72a087911\",\"type\":\"GlyphRenderer\"},{\"attributes\":{\"data_source\":{\"id\":\"c574048c-c50f-48ac-9aff-55e35c259e6f\",\"type\":\"ColumnDataSource\"},\"glyph\":{\"id\":\"d22c794d-1391-4692-895a-eac23f441aba\",\"type\":\"Rect\"},\"hover_glyph\":null,\"nonselection_glyph\":null,\"selection_glyph\":null},\"id\":\"109334bf-563e-4357-9a9a-4f2cc62647be\",\"type\":\"GlyphRenderer\"},{\"attributes\":{\"data_source\":{\"id\":\"09576f89-e9d4-4671-a6a5-a3ac19ae932c\",\"type\":\"ColumnDataSource\"},\"glyph\":{\"id\":\"7f7945c2-ee89-4fb3-9c39-5cf523ce6c86\",\"type\":\"Rect\"},\"hover_glyph\":null,\"nonselection_glyph\":null,\"selection_glyph\":null},\"id\":\"3e01fdc4-3f9d-4e33-afdb-37eb9e620cbc\",\"type\":\"GlyphRenderer\"},{\"attributes\":{\"fill_alpha\":{\"field\":\"fill_alpha\"},\"fill_color\":{\"field\":\"color\"},\"height\":{\"field\":\"height\",\"units\":\"data\"},\"line_color\":{\"field\":\"line_color\"},\"width\":{\"field\":\"width\",\"units\":\"data\"},\"x\":{\"field\":\"x\"},\"y\":{\"field\":\"y\"}},\"id\":\"a372848b-ce25-4ca2-aef3-5cae5227034e\",\"type\":\"Rect\"},{\"attributes\":{\"callback\":null,\"column_names\":[\"y\",\"line_alpha\",\"height\",\"width\",\"color\",\"line_color\",\"fill_alpha\",\"x\"],\"data\":{\"chart_index\":[{\"year\":2005}],\"color\":[\"#0277BD\"],\"fill_alpha\":[0.8],\"height\":[106.0],\"line_alpha\":[1.0],\"line_color\":[\"white\"],\"width\":[0.8],\"x\":[\"2005\"],\"y\":[53.0],\"year\":[2005]}},\"id\":\"83c4cee8-ee74-472f-84e2-41ce4474985a\",\"type\":\"ColumnDataSource\"},{\"attributes\":{\"callback\":null,\"column_names\":[\"y\",\"line_alpha\",\"height\",\"width\",\"color\",\"line_color\",\"fill_alpha\",\"x\"],\"data\":{\"chart_index\":[{\"year\":2007}],\"color\":[\"#0277BD\"],\"fill_alpha\":[0.8],\"height\":[185.0],\"line_alpha\":[1.0],\"line_color\":[\"white\"],\"width\":[0.8],\"x\":[\"2007\"],\"y\":[92.5],\"year\":[2007]}},\"id\":\"a89c404e-8a0f-4f7c-8b2e-8ab910c8f5c3\",\"type\":\"ColumnDataSource\"},{\"attributes\":{\"data_source\":{\"id\":\"7280a653-e13a-4330-a5eb-c4f6b8f8f81b\",\"type\":\"ColumnDataSource\"},\"glyph\":{\"id\":\"3800da24-56fe-4c5d-a6e6-4440a6cfc43e\",\"type\":\"Rect\"},\"hover_glyph\":null,\"nonselection_glyph\":null,\"selection_glyph\":null},\"id\":\"bee13716-67b6-4f69-bcd3-288695b015ae\",\"type\":\"GlyphRenderer\"},{\"attributes\":{\"data_source\":{\"id\":\"ce92443d-fc6a-4c38-93ad-2c781d4d735e\",\"type\":\"ColumnDataSource\"},\"glyph\":{\"id\":\"ca69dc3f-fe08-4634-b0f1-f0df177bbd37\",\"type\":\"Rect\"},\"hover_glyph\":null,\"nonselection_glyph\":null,\"selection_glyph\":null},\"id\":\"53e43a9c-6787-4cfd-bc10-45b871df750a\",\"type\":\"GlyphRenderer\"},{\"attributes\":{\"callback\":null,\"column_names\":[\"y\",\"line_alpha\",\"height\",\"width\",\"color\",\"line_color\",\"fill_alpha\",\"x\"],\"data\":{\"chart_index\":[{\"year\":2013}],\"color\":[\"#0277BD\"],\"fill_alpha\":[0.8],\"height\":[28.0],\"line_alpha\":[1.0],\"line_color\":[\"white\"],\"width\":[0.8],\"x\":[\"2013\"],\"y\":[14.0],\"year\":[2013]}},\"id\":\"55a4dcbe-f9a5-492a-94b3-f89c1718c4e2\",\"type\":\"ColumnDataSource\"},{\"attributes\":{\"callback\":null,\"column_names\":[\"y\",\"line_alpha\",\"height\",\"width\",\"color\",\"line_color\",\"fill_alpha\",\"x\"],\"data\":{\"chart_index\":[{\"year\":2003}],\"color\":[\"#0277BD\"],\"fill_alpha\":[0.8],\"height\":[206.0],\"line_alpha\":[1.0],\"line_color\":[\"white\"],\"width\":[0.8],\"x\":[\"2003\"],\"y\":[103.0],\"year\":[2003]}},\"id\":\"30d1f426-77d9-4837-9b86-a772c68795f8\",\"type\":\"ColumnDataSource\"},{\"attributes\":{},\"id\":\"68861efb-2a73-4358-91c2-ed2ae91b2788\",\"type\":\"ToolEvents\"},{\"attributes\":{\"plot\":{\"id\":\"085da3c0-dcdb-40a3-b98f-8d8c64646b3e\",\"subtype\":\"Chart\",\"type\":\"Plot\"}},\"id\":\"3fd4b3e5-b64e-4146-b60a-a107041c1319\",\"type\":\"PreviewSaveTool\"},{\"attributes\":{\"callback\":null,\"column_names\":[\"y\",\"line_alpha\",\"height\",\"width\",\"color\",\"line_color\",\"fill_alpha\",\"x\"],\"data\":{\"chart_index\":[{\"year\":2010}],\"color\":[\"#0277BD\"],\"fill_alpha\":[0.8],\"height\":[51.0],\"line_alpha\":[1.0],\"line_color\":[\"white\"],\"width\":[0.8],\"x\":[\"2010\"],\"y\":[25.5],\"year\":[2010]}},\"id\":\"201bcb6a-469a-4b55-9261-32b875df2b40\",\"type\":\"ColumnDataSource\"},{\"attributes\":{\"fill_alpha\":{\"field\":\"fill_alpha\"},\"fill_color\":{\"field\":\"color\"},\"height\":{\"field\":\"height\",\"units\":\"data\"},\"line_color\":{\"field\":\"line_color\"},\"width\":{\"field\":\"width\",\"units\":\"data\"},\"x\":{\"field\":\"x\"},\"y\":{\"field\":\"y\"}},\"id\":\"d6e38477-76a6-4dea-8932-e60276b850e2\",\"type\":\"Rect\"},{\"attributes\":{\"fill_alpha\":{\"field\":\"fill_alpha\"},\"fill_color\":{\"field\":\"color\"},\"height\":{\"field\":\"height\",\"units\":\"data\"},\"line_color\":{\"field\":\"line_color\"},\"width\":{\"field\":\"width\",\"units\":\"data\"},\"x\":{\"field\":\"x\"},\"y\":{\"field\":\"y\"}},\"id\":\"66713375-b330-448e-9d3d-0cbd98805032\",\"type\":\"Rect\"},{\"attributes\":{},\"id\":\"22eaacb2-936d-4815-a0e4-d0f743f14104\",\"type\":\"BasicTickFormatter\"},{\"attributes\":{\"data_source\":{\"id\":\"f4d533b3-7ee7-4939-940f-f5dfb1717b66\",\"type\":\"ColumnDataSource\"},\"glyph\":{\"id\":\"2928252d-0b2f-4b17-8bcb-1f9f2e237eb4\",\"type\":\"Rect\"},\"hover_glyph\":null,\"nonselection_glyph\":null,\"selection_glyph\":null},\"id\":\"2e865699-4295-44fa-a28a-4aad608555a0\",\"type\":\"GlyphRenderer\"},{\"attributes\":{\"formatter\":{\"id\":\"22eaacb2-936d-4815-a0e4-d0f743f14104\",\"type\":\"BasicTickFormatter\"},\"plot\":{\"id\":\"085da3c0-dcdb-40a3-b98f-8d8c64646b3e\",\"subtype\":\"Chart\",\"type\":\"Plot\"},\"ticker\":{\"id\":\"ece57f03-3cc7-4098-be0c-f76f556d95aa\",\"type\":\"BasicTicker\"}},\"id\":\"7f58509c-bb21-44c2-86a1-6a77cb774fc9\",\"type\":\"LinearAxis\"},{\"attributes\":{\"fill_alpha\":{\"field\":\"fill_alpha\"},\"fill_color\":{\"field\":\"color\"},\"height\":{\"field\":\"height\",\"units\":\"data\"},\"line_color\":{\"field\":\"line_color\"},\"width\":{\"field\":\"width\",\"units\":\"data\"},\"x\":{\"field\":\"x\"},\"y\":{\"field\":\"y\"}},\"id\":\"6013469b-6476-4595-a0e0-808a239b1a0e\",\"type\":\"Rect\"},{\"attributes\":{\"callback\":null,\"column_names\":[\"y\",\"line_alpha\",\"height\",\"width\",\"color\",\"line_color\",\"fill_alpha\",\"x\"],\"data\":{\"chart_index\":[{\"year\":2000}],\"color\":[\"#0277BD\"],\"fill_alpha\":[0.8],\"height\":[197.0],\"line_alpha\":[1.0],\"line_color\":[\"white\"],\"width\":[0.8],\"x\":[\"2000\"],\"y\":[98.5],\"year\":[2000]}},\"id\":\"12c6cef0-5550-4ec0-82e9-76dd468e044f\",\"type\":\"ColumnDataSource\"},{\"attributes\":{\"data_source\":{\"id\":\"685b0e4e-1231-4eef-8328-5ef8d96a9f2d\",\"type\":\"ColumnDataSource\"},\"glyph\":{\"id\":\"66db5397-9e3b-44ea-9df1-435d95b4dd66\",\"type\":\"Rect\"},\"hover_glyph\":null,\"nonselection_glyph\":null,\"selection_glyph\":null},\"id\":\"037d8d72-ce19-4709-8fb1-c3d62dd2f189\",\"type\":\"GlyphRenderer\"},{\"attributes\":{\"fill_alpha\":{\"field\":\"fill_alpha\"},\"fill_color\":{\"field\":\"color\"},\"height\":{\"field\":\"height\",\"units\":\"data\"},\"line_color\":{\"field\":\"line_color\"},\"width\":{\"field\":\"width\",\"units\":\"data\"},\"x\":{\"field\":\"x\"},\"y\":{\"field\":\"y\"}},\"id\":\"2928252d-0b2f-4b17-8bcb-1f9f2e237eb4\",\"type\":\"Rect\"},{\"attributes\":{},\"id\":\"506a4683-5ef7-4396-ab3f-2182e954fd80\",\"type\":\"CategoricalTickFormatter\"},{\"attributes\":{\"data_source\":{\"id\":\"8f5cc597-878c-43cf-a6a3-979af48161a0\",\"type\":\"ColumnDataSource\"},\"glyph\":{\"id\":\"a372848b-ce25-4ca2-aef3-5cae5227034e\",\"type\":\"Rect\"},\"hover_glyph\":null,\"nonselection_glyph\":null,\"selection_glyph\":null},\"id\":\"db17b978-70df-495a-a2e4-05bf0152e1e1\",\"type\":\"GlyphRenderer\"},{\"attributes\":{\"callback\":null,\"column_names\":[\"y\",\"line_alpha\",\"height\",\"width\",\"color\",\"line_color\",\"fill_alpha\",\"x\"],\"data\":{\"chart_index\":[{\"year\":1999}],\"color\":[\"#0277BD\"],\"fill_alpha\":[0.8],\"height\":[67.0],\"line_alpha\":[1.0],\"line_color\":[\"white\"],\"width\":[0.8],\"x\":[\"1999\"],\"y\":[33.5],\"year\":[1999]}},\"id\":\"4b908820-e1aa-48b2-b578-06d01be70476\",\"type\":\"ColumnDataSource\"},{\"attributes\":{\"data_source\":{\"id\":\"201bcb6a-469a-4b55-9261-32b875df2b40\",\"type\":\"ColumnDataSource\"},\"glyph\":{\"id\":\"81425e40-b6e7-4d6f-bab7-26359ce6139b\",\"type\":\"Rect\"},\"hover_glyph\":null,\"nonselection_glyph\":null,\"selection_glyph\":null},\"id\":\"9b4f863b-47c2-47bc-be9f-7e483a859cb1\",\"type\":\"GlyphRenderer\"},{\"attributes\":{\"fill_alpha\":{\"field\":\"fill_alpha\"},\"fill_color\":{\"field\":\"color\"},\"height\":{\"field\":\"height\",\"units\":\"data\"},\"line_color\":{\"field\":\"line_color\"},\"width\":{\"field\":\"width\",\"units\":\"data\"},\"x\":{\"field\":\"x\"},\"y\":{\"field\":\"y\"}},\"id\":\"b1ebf6a7-8084-4212-8e92-8344e99cfc00\",\"type\":\"Rect\"},{\"attributes\":{\"data_source\":{\"id\":\"59bc1132-5f28-484f-9f68-cb8b3bcba10f\",\"type\":\"ColumnDataSource\"},\"glyph\":{\"id\":\"016cfdef-d8ee-434a-a610-1b341dee00c5\",\"type\":\"Rect\"},\"hover_glyph\":null,\"nonselection_glyph\":null,\"selection_glyph\":null},\"id\":\"7a6fa6f7-705c-4ebf-ba26-b4d1cda61433\",\"type\":\"GlyphRenderer\"},{\"attributes\":{\"dimension\":1,\"plot\":{\"id\":\"085da3c0-dcdb-40a3-b98f-8d8c64646b3e\",\"subtype\":\"Chart\",\"type\":\"Plot\"},\"ticker\":{\"id\":\"ece57f03-3cc7-4098-be0c-f76f556d95aa\",\"type\":\"BasicTicker\"}},\"id\":\"a8e7f726-4816-4f90-9bf7-8bc65f8e0cac\",\"type\":\"Grid\"},{\"attributes\":{\"axis_label\":\"Year\",\"formatter\":{\"id\":\"506a4683-5ef7-4396-ab3f-2182e954fd80\",\"type\":\"CategoricalTickFormatter\"},\"major_label_orientation\":0.7853981633974483,\"plot\":{\"id\":\"085da3c0-dcdb-40a3-b98f-8d8c64646b3e\",\"subtype\":\"Chart\",\"type\":\"Plot\"},\"ticker\":{\"id\":\"b9d63173-4b4b-40d9-a70f-e430fa5dafa0\",\"type\":\"CategoricalTicker\"}},\"id\":\"7fc25fc4-fd32-4653-a400-b45a16504b1d\",\"type\":\"CategoricalAxis\"},{\"attributes\":{\"callback\":null,\"column_names\":[\"y\",\"line_alpha\",\"height\",\"width\",\"color\",\"line_color\",\"fill_alpha\",\"x\"],\"data\":{\"chart_index\":[{\"year\":2002}],\"color\":[\"#0277BD\"],\"fill_alpha\":[0.8],\"height\":[153.0],\"line_alpha\":[1.0],\"line_color\":[\"white\"],\"width\":[0.8],\"x\":[\"2002\"],\"y\":[76.5],\"year\":[2002]}},\"id\":\"ce92443d-fc6a-4c38-93ad-2c781d4d735e\",\"type\":\"ColumnDataSource\"},{\"attributes\":{\"plot\":{\"id\":\"085da3c0-dcdb-40a3-b98f-8d8c64646b3e\",\"subtype\":\"Chart\",\"type\":\"Plot\"}},\"id\":\"9022725e-c639-4ffe-b8a4-4cf2c16626e3\",\"type\":\"ResetTool\"},{\"attributes\":{\"fill_alpha\":{\"field\":\"fill_alpha\"},\"fill_color\":{\"field\":\"color\"},\"height\":{\"field\":\"height\",\"units\":\"data\"},\"line_color\":{\"field\":\"line_color\"},\"width\":{\"field\":\"width\",\"units\":\"data\"},\"x\":{\"field\":\"x\"},\"y\":{\"field\":\"y\"}},\"id\":\"3800da24-56fe-4c5d-a6e6-4440a6cfc43e\",\"type\":\"Rect\"},{\"attributes\":{\"fill_alpha\":{\"field\":\"fill_alpha\"},\"fill_color\":{\"field\":\"color\"},\"height\":{\"field\":\"height\",\"units\":\"data\"},\"line_color\":{\"field\":\"line_color\"},\"width\":{\"field\":\"width\",\"units\":\"data\"},\"x\":{\"field\":\"x\"},\"y\":{\"field\":\"y\"}},\"id\":\"6d5c27cb-af97-49fa-b350-55f1e9f833a3\",\"type\":\"Rect\"},{\"attributes\":{\"callback\":null,\"column_names\":[\"y\",\"line_alpha\",\"height\",\"width\",\"color\",\"line_color\",\"fill_alpha\",\"x\"],\"data\":{\"chart_index\":[{\"year\":2006}],\"color\":[\"#0277BD\"],\"fill_alpha\":[0.8],\"height\":[106.0],\"line_alpha\":[1.0],\"line_color\":[\"white\"],\"width\":[0.8],\"x\":[\"2006\"],\"y\":[53.0],\"year\":[2006]}},\"id\":\"685b0e4e-1231-4eef-8328-5ef8d96a9f2d\",\"type\":\"ColumnDataSource\"},{\"attributes\":{\"data_source\":{\"id\":\"4b908820-e1aa-48b2-b578-06d01be70476\",\"type\":\"ColumnDataSource\"},\"glyph\":{\"id\":\"f5900cc8-dbb9-4d3c-b49b-9c87135a9d12\",\"type\":\"Rect\"},\"hover_glyph\":null,\"nonselection_glyph\":null,\"selection_glyph\":null},\"id\":\"1f10de11-36c0-4a00-86a0-1adc33259910\",\"type\":\"GlyphRenderer\"},{\"attributes\":{\"data_source\":{\"id\":\"55a4dcbe-f9a5-492a-94b3-f89c1718c4e2\",\"type\":\"ColumnDataSource\"},\"glyph\":{\"id\":\"b1ebf6a7-8084-4212-8e92-8344e99cfc00\",\"type\":\"Rect\"},\"hover_glyph\":null,\"nonselection_glyph\":null,\"selection_glyph\":null},\"id\":\"7be64964-a8d6-4132-ad96-69944e3132a8\",\"type\":\"GlyphRenderer\"}],\"root_ids\":[\"085da3c0-dcdb-40a3-b98f-8d8c64646b3e\"]},\"title\":\"Bokeh Application\",\"version\":\"0.11.1\"}};\n",
       "            var render_items = [{\"docid\":\"549b628f-201e-47d7-87c1-b33660e1317c\",\"elementid\":\"905ec622-be7d-49aa-b248-aed5fb365ea8\",\"modelid\":\"085da3c0-dcdb-40a3-b98f-8d8c64646b3e\",\"notebook_comms_target\":\"a243e87c-9f44-4ba5-9d2b-b346ba44aacd\"}];\n",
       "            \n",
       "            Bokeh.embed.embed_items(docs_json, render_items);\n",
       "        });\n",
       "      },\n",
       "      function(Bokeh) {\n",
       "      }\n",
       "    ];\n",
       "  \n",
       "    function run_inline_js() {\n",
       "      for (var i = 0; i < inline_js.length; i++) {\n",
       "        inline_js[i](window.Bokeh);\n",
       "      }\n",
       "    }\n",
       "  \n",
       "    if (window._bokeh_is_loading === 0) {\n",
       "      console.log(\"Bokeh: BokehJS loaded, going straight to plotting\");\n",
       "      run_inline_js();\n",
       "    } else {\n",
       "      load_libs(js_urls, function() {\n",
       "        console.log(\"Bokeh: BokehJS plotting callback run at\", now());\n",
       "        run_inline_js();\n",
       "      });\n",
       "    }\n",
       "  }(this));\n",
       "</script>"
      ]
     },
     "metadata": {},
     "output_type": "display_data"
    },
    {
     "data": {
      "text/html": [
       "<p><code>&lt;Bokeh Notebook handle for <strong>In[16]</strong>&gt;</code></p>"
      ],
      "text/plain": [
       "<bokeh.io._CommsHandle at 0x117aafdd8>"
      ]
     },
     "execution_count": 16,
     "metadata": {},
     "output_type": "execute_result"
    }
   ],
   "source": [
    "p = Bar(data=beyonce, label=\"year\", values=\"occurrences\", title=\"No. Babies named Beyoncé\",\n",
    "        color=\"#0277BD\", ylabel='', tools=\"save,reset\")\n",
    "show(p)"
   ]
  },
  {
   "cell_type": "markdown",
   "metadata": {},
   "source": [
    "And thats it! Nothing crazy or big data this time but a nice example on how to get something done in python in 30 minutes. Go to the article page and you can search for your own name in a nice webapp."
   ]
  }
 ],
 "metadata": {
  "kernelspec": {
   "display_name": "Python 3",
   "language": "python",
   "name": "python3"
  },
  "language_info": {
   "codemirror_mode": {
    "name": "ipython",
    "version": 3
   },
   "file_extension": ".py",
   "mimetype": "text/x-python",
   "name": "python",
   "nbconvert_exporter": "python",
   "pygments_lexer": "ipython3",
   "version": "3.5.1"
  }
 },
 "nbformat": 4,
 "nbformat_minor": 0
}
